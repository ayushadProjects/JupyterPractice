{
 "cells": [
  {
   "cell_type": "code",
   "execution_count": 6,
   "id": "f98b911f-2909-42c7-abf3-5d8532a83b8e",
   "metadata": {},
   "outputs": [],
   "source": [
    "import pandas as pd\n",
    "account = {\n",
    "    \"student_ID\": [100, 101, 201, 331],\n",
    "    \"first_name\": [\"Ayush\", \"Ryan\", \"Chisato\", \"Isabelle\"],\n",
    "    \"last_name\": [\"Adhikari\", \"Griffin\", \"Nii\", \"Bui\"],\n",
    "    \"University\": [\"CSU\", \"CSU\", \"CSU\", \"DU\"],\n",
    "    \"Major\": [\"CIS\", \"CS\", \"Piano\", \"Nutrition\"],\n",
    "    \"Salary\": [200000, 100000, 50000, 75000],\n",
    "    \"Age\": [21, 22, 30, 20],\n",
    "    \"GPA\": [4.0, 4.0, 3.5, 3.8],\n",
    "}\n",
    "\n",
    "df = pd.DataFrame(account)"
   ]
  },
  {
   "cell_type": "code",
   "execution_count": 7,
   "id": "1a42e273-082a-4355-85f3-4902602075af",
   "metadata": {},
   "outputs": [
    {
     "data": {
      "text/html": [
       "<div>\n",
       "<style scoped>\n",
       "    .dataframe tbody tr th:only-of-type {\n",
       "        vertical-align: middle;\n",
       "    }\n",
       "\n",
       "    .dataframe tbody tr th {\n",
       "        vertical-align: top;\n",
       "    }\n",
       "\n",
       "    .dataframe thead th {\n",
       "        text-align: right;\n",
       "    }\n",
       "</style>\n",
       "<table border=\"1\" class=\"dataframe\">\n",
       "  <thead>\n",
       "    <tr style=\"text-align: right;\">\n",
       "      <th></th>\n",
       "      <th>student_ID</th>\n",
       "      <th>Salary</th>\n",
       "      <th>Age</th>\n",
       "      <th>GPA</th>\n",
       "    </tr>\n",
       "  </thead>\n",
       "  <tbody>\n",
       "    <tr>\n",
       "      <th>count</th>\n",
       "      <td>4.000000</td>\n",
       "      <td>4.000000</td>\n",
       "      <td>4.000000</td>\n",
       "      <td>4.000000</td>\n",
       "    </tr>\n",
       "    <tr>\n",
       "      <th>mean</th>\n",
       "      <td>183.250000</td>\n",
       "      <td>106250.000000</td>\n",
       "      <td>23.250000</td>\n",
       "      <td>3.825000</td>\n",
       "    </tr>\n",
       "    <tr>\n",
       "      <th>std</th>\n",
       "      <td>109.301952</td>\n",
       "      <td>65748.890992</td>\n",
       "      <td>4.573474</td>\n",
       "      <td>0.236291</td>\n",
       "    </tr>\n",
       "    <tr>\n",
       "      <th>min</th>\n",
       "      <td>100.000000</td>\n",
       "      <td>50000.000000</td>\n",
       "      <td>20.000000</td>\n",
       "      <td>3.500000</td>\n",
       "    </tr>\n",
       "    <tr>\n",
       "      <th>25%</th>\n",
       "      <td>100.750000</td>\n",
       "      <td>68750.000000</td>\n",
       "      <td>20.750000</td>\n",
       "      <td>3.725000</td>\n",
       "    </tr>\n",
       "    <tr>\n",
       "      <th>50%</th>\n",
       "      <td>151.000000</td>\n",
       "      <td>87500.000000</td>\n",
       "      <td>21.500000</td>\n",
       "      <td>3.900000</td>\n",
       "    </tr>\n",
       "    <tr>\n",
       "      <th>75%</th>\n",
       "      <td>233.500000</td>\n",
       "      <td>125000.000000</td>\n",
       "      <td>24.000000</td>\n",
       "      <td>4.000000</td>\n",
       "    </tr>\n",
       "    <tr>\n",
       "      <th>max</th>\n",
       "      <td>331.000000</td>\n",
       "      <td>200000.000000</td>\n",
       "      <td>30.000000</td>\n",
       "      <td>4.000000</td>\n",
       "    </tr>\n",
       "  </tbody>\n",
       "</table>\n",
       "</div>"
      ],
      "text/plain": [
       "       student_ID         Salary        Age       GPA\n",
       "count    4.000000       4.000000   4.000000  4.000000\n",
       "mean   183.250000  106250.000000  23.250000  3.825000\n",
       "std    109.301952   65748.890992   4.573474  0.236291\n",
       "min    100.000000   50000.000000  20.000000  3.500000\n",
       "25%    100.750000   68750.000000  20.750000  3.725000\n",
       "50%    151.000000   87500.000000  21.500000  3.900000\n",
       "75%    233.500000  125000.000000  24.000000  4.000000\n",
       "max    331.000000  200000.000000  30.000000  4.000000"
      ]
     },
     "execution_count": 7,
     "metadata": {},
     "output_type": "execute_result"
    }
   ],
   "source": [
    "df.describe()"
   ]
  },
  {
   "cell_type": "code",
   "execution_count": 9,
   "id": "e352ac9b-d267-410c-a5bf-971bc378b0b7",
   "metadata": {},
   "outputs": [],
   "source": [
    "df.set_index(\"student_ID\", inplace = True)"
   ]
  },
  {
   "cell_type": "code",
   "execution_count": 10,
   "id": "c6de7381-f575-4e96-b90a-2170a0d7c67b",
   "metadata": {},
   "outputs": [
    {
     "data": {
      "text/html": [
       "<div>\n",
       "<style scoped>\n",
       "    .dataframe tbody tr th:only-of-type {\n",
       "        vertical-align: middle;\n",
       "    }\n",
       "\n",
       "    .dataframe tbody tr th {\n",
       "        vertical-align: top;\n",
       "    }\n",
       "\n",
       "    .dataframe thead th {\n",
       "        text-align: right;\n",
       "    }\n",
       "</style>\n",
       "<table border=\"1\" class=\"dataframe\">\n",
       "  <thead>\n",
       "    <tr style=\"text-align: right;\">\n",
       "      <th></th>\n",
       "      <th>Salary</th>\n",
       "      <th>Age</th>\n",
       "      <th>GPA</th>\n",
       "    </tr>\n",
       "  </thead>\n",
       "  <tbody>\n",
       "    <tr>\n",
       "      <th>count</th>\n",
       "      <td>4.000000</td>\n",
       "      <td>4.000000</td>\n",
       "      <td>4.000000</td>\n",
       "    </tr>\n",
       "    <tr>\n",
       "      <th>mean</th>\n",
       "      <td>106250.000000</td>\n",
       "      <td>23.250000</td>\n",
       "      <td>3.825000</td>\n",
       "    </tr>\n",
       "    <tr>\n",
       "      <th>std</th>\n",
       "      <td>65748.890992</td>\n",
       "      <td>4.573474</td>\n",
       "      <td>0.236291</td>\n",
       "    </tr>\n",
       "    <tr>\n",
       "      <th>min</th>\n",
       "      <td>50000.000000</td>\n",
       "      <td>20.000000</td>\n",
       "      <td>3.500000</td>\n",
       "    </tr>\n",
       "    <tr>\n",
       "      <th>25%</th>\n",
       "      <td>68750.000000</td>\n",
       "      <td>20.750000</td>\n",
       "      <td>3.725000</td>\n",
       "    </tr>\n",
       "    <tr>\n",
       "      <th>50%</th>\n",
       "      <td>87500.000000</td>\n",
       "      <td>21.500000</td>\n",
       "      <td>3.900000</td>\n",
       "    </tr>\n",
       "    <tr>\n",
       "      <th>75%</th>\n",
       "      <td>125000.000000</td>\n",
       "      <td>24.000000</td>\n",
       "      <td>4.000000</td>\n",
       "    </tr>\n",
       "    <tr>\n",
       "      <th>max</th>\n",
       "      <td>200000.000000</td>\n",
       "      <td>30.000000</td>\n",
       "      <td>4.000000</td>\n",
       "    </tr>\n",
       "  </tbody>\n",
       "</table>\n",
       "</div>"
      ],
      "text/plain": [
       "              Salary        Age       GPA\n",
       "count       4.000000   4.000000  4.000000\n",
       "mean   106250.000000  23.250000  3.825000\n",
       "std     65748.890992   4.573474  0.236291\n",
       "min     50000.000000  20.000000  3.500000\n",
       "25%     68750.000000  20.750000  3.725000\n",
       "50%     87500.000000  21.500000  3.900000\n",
       "75%    125000.000000  24.000000  4.000000\n",
       "max    200000.000000  30.000000  4.000000"
      ]
     },
     "execution_count": 10,
     "metadata": {},
     "output_type": "execute_result"
    }
   ],
   "source": [
    "df.describe()"
   ]
  },
  {
   "cell_type": "code",
   "execution_count": 11,
   "id": "b2c3ae16-2930-4bca-af47-67a1e8d7275e",
   "metadata": {},
   "outputs": [
    {
     "data": {
      "text/plain": [
       "3.9"
      ]
     },
     "execution_count": 11,
     "metadata": {},
     "output_type": "execute_result"
    }
   ],
   "source": [
    "df[\"GPA\"].median()"
   ]
  },
  {
   "cell_type": "code",
   "execution_count": 15,
   "id": "eb958f79-5c67-4db1-b1ac-5ad6fe27b79d",
   "metadata": {},
   "outputs": [],
   "source": [
    "df2 = pd.read_csv(\"survey_results_public.csv\")"
   ]
  },
  {
   "cell_type": "code",
   "execution_count": 45,
   "id": "2bd44bd4-8f6e-46f0-8f8e-0eb09bd052b1",
   "metadata": {},
   "outputs": [
    {
     "data": {
      "text/plain": [
       "Age   ConvertedComp\n",
       "25.0  100000.0         23\n",
       "24.0  75000.0          18\n",
       "25.0  85000.0          15\n",
       "      60000.0          14\n",
       "24.0  2000000.0        13\n",
       "                       ..\n",
       "25.0  82500.0           1\n",
       "      82941.0           1\n",
       "      61949.0           1\n",
       "      61000.0           1\n",
       "23.0  1920000.0         1\n",
       "Length: 556, dtype: int64"
      ]
     },
     "execution_count": 45,
     "metadata": {},
     "output_type": "execute_result"
    }
   ],
   "source": [
    "filt = (df2[\"Country\"] == \"United States\") & (df2[\"Age\"] >= 20) & (df2[\"Age\"] <= 25)\n",
    "df2.loc[filt, [\"Age\", \"ConvertedComp\"]].value_counts().sort_values(ascending = False)"
   ]
  },
  {
   "cell_type": "code",
   "execution_count": 47,
   "id": "44c44ee3-6efb-4595-a1ba-02224cc39a8b",
   "metadata": {},
   "outputs": [
    {
     "data": {
      "text/plain": [
       "ConvertedComp    82033.5\n",
       "dtype: float64"
      ]
     },
     "execution_count": 47,
     "metadata": {},
     "output_type": "execute_result"
    }
   ],
   "source": [
    "df2.loc[filt, [\"ConvertedComp\"]].median()"
   ]
  },
  {
   "cell_type": "code",
   "execution_count": 83,
   "id": "56e84b17-0547-48d3-829c-0d986982d487",
   "metadata": {},
   "outputs": [],
   "source": [
    "country_group = df2.groupby([\"Country\"])"
   ]
  },
  {
   "cell_type": "code",
   "execution_count": null,
   "id": "ed530925-1fa0-461f-ac73-654284a3fa31",
   "metadata": {},
   "outputs": [],
   "source": []
  },
  {
   "cell_type": "code",
   "execution_count": 102,
   "id": "a31971d6-50b3-43e5-80e2-a225526e2753",
   "metadata": {},
   "outputs": [
    {
     "data": {
      "text/plain": [
       "UndergradMajor\n",
       "Computer science, computer engineering, or software engineering                   0.578947\n",
       "Another engineering discipline (such as civil, electrical, mechanical, etc.)      0.121457\n",
       "Information systems, information technology, or system administration             0.072874\n",
       "A humanities discipline (such as literature, history, philosophy, etc.)           0.048583\n",
       "A natural science (such as biology, chemistry, physics, etc.)                     0.048583\n",
       "A social science (such as anthropology, psychology, political science, etc.)      0.028340\n",
       "Web development or web design                                                     0.028340\n",
       "A business discipline (such as accounting, finance, marketing, etc.)              0.024291\n",
       "Mathematics or statistics                                                         0.020243\n",
       "Fine arts or performing arts (such as graphic design, music, studio art, etc.)    0.016194\n",
       "I never declared a major                                                          0.012146\n",
       "Name: UndergradMajor, dtype: float64"
      ]
     },
     "execution_count": 102,
     "metadata": {},
     "output_type": "execute_result"
    }
   ],
   "source": [
    "country_group[\"UndergradMajor\"].value_counts(normalize = True).loc[\"Japan\"]"
   ]
  },
  {
   "cell_type": "code",
   "execution_count": 87,
   "id": "a4734749-9ea4-4e8e-bcfe-6f6ffc209027",
   "metadata": {},
   "outputs": [
    {
     "data": {
      "text/plain": [
       "115101.77546468402"
      ]
     },
     "execution_count": 87,
     "metadata": {},
     "output_type": "execute_result"
    }
   ],
   "source": [
    "country_group[\"ConvertedComp\"].mean().loc[\"Canada\"]"
   ]
  },
  {
   "cell_type": "code",
   "execution_count": 90,
   "id": "87a3c18f-a735-4ae8-9c9b-a2df9ebb3ea4",
   "metadata": {},
   "outputs": [
    {
     "data": {
      "text/html": [
       "<div>\n",
       "<style scoped>\n",
       "    .dataframe tbody tr th:only-of-type {\n",
       "        vertical-align: middle;\n",
       "    }\n",
       "\n",
       "    .dataframe tbody tr th {\n",
       "        vertical-align: top;\n",
       "    }\n",
       "\n",
       "    .dataframe thead th {\n",
       "        text-align: right;\n",
       "    }\n",
       "</style>\n",
       "<table border=\"1\" class=\"dataframe\">\n",
       "  <thead>\n",
       "    <tr style=\"text-align: right;\">\n",
       "      <th></th>\n",
       "      <th>median</th>\n",
       "      <th>mean</th>\n",
       "      <th>max</th>\n",
       "      <th>min</th>\n",
       "    </tr>\n",
       "    <tr>\n",
       "      <th>Country</th>\n",
       "      <th></th>\n",
       "      <th></th>\n",
       "      <th></th>\n",
       "      <th></th>\n",
       "    </tr>\n",
       "  </thead>\n",
       "  <tbody>\n",
       "    <tr>\n",
       "      <th>Afghanistan</th>\n",
       "      <td>15163.5</td>\n",
       "      <td>148290.125000</td>\n",
       "      <td>1000000.0</td>\n",
       "      <td>0.0</td>\n",
       "    </tr>\n",
       "    <tr>\n",
       "      <th>Albania</th>\n",
       "      <td>15900.0</td>\n",
       "      <td>25611.000000</td>\n",
       "      <td>194580.0</td>\n",
       "      <td>0.0</td>\n",
       "    </tr>\n",
       "    <tr>\n",
       "      <th>Algeria</th>\n",
       "      <td>9432.0</td>\n",
       "      <td>10362.812500</td>\n",
       "      <td>36000.0</td>\n",
       "      <td>300.0</td>\n",
       "    </tr>\n",
       "    <tr>\n",
       "      <th>Andorra</th>\n",
       "      <td>88640.0</td>\n",
       "      <td>88640.000000</td>\n",
       "      <td>141608.0</td>\n",
       "      <td>35672.0</td>\n",
       "    </tr>\n",
       "    <tr>\n",
       "      <th>Angola</th>\n",
       "      <td>5292.0</td>\n",
       "      <td>5292.000000</td>\n",
       "      <td>5736.0</td>\n",
       "      <td>4848.0</td>\n",
       "    </tr>\n",
       "    <tr>\n",
       "      <th>...</th>\n",
       "      <td>...</td>\n",
       "      <td>...</td>\n",
       "      <td>...</td>\n",
       "      <td>...</td>\n",
       "    </tr>\n",
       "    <tr>\n",
       "      <th>Venezuela, Bolivarian Republic of...</th>\n",
       "      <td>3600.0</td>\n",
       "      <td>6280.611111</td>\n",
       "      <td>24000.0</td>\n",
       "      <td>96.0</td>\n",
       "    </tr>\n",
       "    <tr>\n",
       "      <th>Viet Nam</th>\n",
       "      <td>10344.0</td>\n",
       "      <td>28342.605769</td>\n",
       "      <td>1000000.0</td>\n",
       "      <td>0.0</td>\n",
       "    </tr>\n",
       "    <tr>\n",
       "      <th>Yemen</th>\n",
       "      <td>36000.0</td>\n",
       "      <td>36000.000000</td>\n",
       "      <td>36000.0</td>\n",
       "      <td>36000.0</td>\n",
       "    </tr>\n",
       "    <tr>\n",
       "      <th>Zambia</th>\n",
       "      <td>5452.0</td>\n",
       "      <td>17506.400000</td>\n",
       "      <td>60000.0</td>\n",
       "      <td>816.0</td>\n",
       "    </tr>\n",
       "    <tr>\n",
       "      <th>Zimbabwe</th>\n",
       "      <td>7200.0</td>\n",
       "      <td>26338.181818</td>\n",
       "      <td>180000.0</td>\n",
       "      <td>1200.0</td>\n",
       "    </tr>\n",
       "  </tbody>\n",
       "</table>\n",
       "<p>183 rows × 4 columns</p>\n",
       "</div>"
      ],
      "text/plain": [
       "                                       median           mean        max  \\\n",
       "Country                                                                   \n",
       "Afghanistan                           15163.5  148290.125000  1000000.0   \n",
       "Albania                               15900.0   25611.000000   194580.0   \n",
       "Algeria                                9432.0   10362.812500    36000.0   \n",
       "Andorra                               88640.0   88640.000000   141608.0   \n",
       "Angola                                 5292.0    5292.000000     5736.0   \n",
       "...                                       ...            ...        ...   \n",
       "Venezuela, Bolivarian Republic of...   3600.0    6280.611111    24000.0   \n",
       "Viet Nam                              10344.0   28342.605769  1000000.0   \n",
       "Yemen                                 36000.0   36000.000000    36000.0   \n",
       "Zambia                                 5452.0   17506.400000    60000.0   \n",
       "Zimbabwe                               7200.0   26338.181818   180000.0   \n",
       "\n",
       "                                          min  \n",
       "Country                                        \n",
       "Afghanistan                               0.0  \n",
       "Albania                                   0.0  \n",
       "Algeria                                 300.0  \n",
       "Andorra                               35672.0  \n",
       "Angola                                 4848.0  \n",
       "...                                       ...  \n",
       "Venezuela, Bolivarian Republic of...     96.0  \n",
       "Viet Nam                                  0.0  \n",
       "Yemen                                 36000.0  \n",
       "Zambia                                  816.0  \n",
       "Zimbabwe                               1200.0  \n",
       "\n",
       "[183 rows x 4 columns]"
      ]
     },
     "execution_count": 90,
     "metadata": {},
     "output_type": "execute_result"
    }
   ],
   "source": [
    "country_group[\"ConvertedComp\"].agg([\"median\", \"mean\", \"max\", \"min\"])"
   ]
  },
  {
   "cell_type": "code",
   "execution_count": 101,
   "id": "dba283a6-5bca-471b-91c7-275d8012e003",
   "metadata": {},
   "outputs": [
    {
     "data": {
      "text/plain": [
       "Country\n",
       "Afghanistan                              11\n",
       "Albania                                  13\n",
       "Algeria                                  40\n",
       "Andorra                                   3\n",
       "Angola                                    1\n",
       "                                       ... \n",
       "Venezuela, Bolivarian Republic of...     29\n",
       "Viet Nam                                102\n",
       "Yemen                                     1\n",
       "Zambia                                    4\n",
       "Zimbabwe                                 13\n",
       "Name: LanguageWorkedWith, Length: 183, dtype: int64"
      ]
     },
     "execution_count": 101,
     "metadata": {},
     "output_type": "execute_result"
    }
   ],
   "source": [
    "country_group[\"LanguageWorkedWith\"].apply(lambda x: x.str.contains(\"Python\").sum())"
   ]
  },
  {
   "cell_type": "code",
   "execution_count": 105,
   "id": "6e807545-5f5d-4449-89ad-8f7e891cbf22",
   "metadata": {},
   "outputs": [],
   "source": [
    "country_totals = df2[\"Country\"].value_counts()\n",
    "country_python = country_group[\"LanguageWorkedWith\"].apply(lambda x: x.str.contains(\"Python\").sum())"
   ]
  },
  {
   "cell_type": "code",
   "execution_count": 114,
   "id": "6621ada0-a6da-4745-b15a-b204b6bf3ec0",
   "metadata": {},
   "outputs": [],
   "source": [
    "python_df = pd.concat([country_totals, country_python], axis = \"columns\", sort = False)"
   ]
  },
  {
   "cell_type": "code",
   "execution_count": 122,
   "id": "802a1e8a-eec6-40d6-8923-17d77948cd04",
   "metadata": {},
   "outputs": [],
   "source": [
    "python_df.rename(columns = {\"Country\": \"NumRespondents\", \"LanguageWorkedWith\": \"NumKnowsPython\"}, inplace = True)"
   ]
  },
  {
   "cell_type": "code",
   "execution_count": 166,
   "id": "7a511782-a1f9-4a9a-ae86-48e1e3e350d8",
   "metadata": {},
   "outputs": [],
   "source": [
    "python_df[\"% Knows Python\"] = (python_df[\"NumKnowsPython\"] / python_df[\"NumRespondents\"] * 100).round(2)"
   ]
  },
  {
   "cell_type": "code",
   "execution_count": 167,
   "id": "ef675627-a115-42be-9d81-2067f3707dd7",
   "metadata": {},
   "outputs": [
    {
     "data": {
      "text/html": [
       "<div>\n",
       "<style scoped>\n",
       "    .dataframe tbody tr th:only-of-type {\n",
       "        vertical-align: middle;\n",
       "    }\n",
       "\n",
       "    .dataframe tbody tr th {\n",
       "        vertical-align: top;\n",
       "    }\n",
       "\n",
       "    .dataframe thead th {\n",
       "        text-align: right;\n",
       "    }\n",
       "</style>\n",
       "<table border=\"1\" class=\"dataframe\">\n",
       "  <thead>\n",
       "    <tr style=\"text-align: right;\">\n",
       "      <th></th>\n",
       "      <th>NumRespondents</th>\n",
       "      <th>NumKnowsPython</th>\n",
       "      <th>% Knows Python</th>\n",
       "    </tr>\n",
       "  </thead>\n",
       "  <tbody>\n",
       "    <tr>\n",
       "      <th>Gabon</th>\n",
       "      <td>1</td>\n",
       "      <td>1</td>\n",
       "      <td>100.00</td>\n",
       "    </tr>\n",
       "    <tr>\n",
       "      <th>Saint Lucia</th>\n",
       "      <td>1</td>\n",
       "      <td>1</td>\n",
       "      <td>100.00</td>\n",
       "    </tr>\n",
       "    <tr>\n",
       "      <th>Micronesia, Federated States of...</th>\n",
       "      <td>1</td>\n",
       "      <td>1</td>\n",
       "      <td>100.00</td>\n",
       "    </tr>\n",
       "    <tr>\n",
       "      <th>Montenegro</th>\n",
       "      <td>13</td>\n",
       "      <td>9</td>\n",
       "      <td>69.23</td>\n",
       "    </tr>\n",
       "    <tr>\n",
       "      <th>Brunei Darussalam</th>\n",
       "      <td>3</td>\n",
       "      <td>2</td>\n",
       "      <td>66.67</td>\n",
       "    </tr>\n",
       "    <tr>\n",
       "      <th>...</th>\n",
       "      <td>...</td>\n",
       "      <td>...</td>\n",
       "      <td>...</td>\n",
       "    </tr>\n",
       "    <tr>\n",
       "      <th>Monaco</th>\n",
       "      <td>2</td>\n",
       "      <td>0</td>\n",
       "      <td>0.00</td>\n",
       "    </tr>\n",
       "    <tr>\n",
       "      <th>Niger</th>\n",
       "      <td>5</td>\n",
       "      <td>0</td>\n",
       "      <td>0.00</td>\n",
       "    </tr>\n",
       "    <tr>\n",
       "      <th>Saint Vincent and the Grenadines</th>\n",
       "      <td>3</td>\n",
       "      <td>0</td>\n",
       "      <td>0.00</td>\n",
       "    </tr>\n",
       "    <tr>\n",
       "      <th>Gambia</th>\n",
       "      <td>4</td>\n",
       "      <td>0</td>\n",
       "      <td>0.00</td>\n",
       "    </tr>\n",
       "    <tr>\n",
       "      <th>Marshall Islands</th>\n",
       "      <td>1</td>\n",
       "      <td>0</td>\n",
       "      <td>0.00</td>\n",
       "    </tr>\n",
       "  </tbody>\n",
       "</table>\n",
       "<p>183 rows × 3 columns</p>\n",
       "</div>"
      ],
      "text/plain": [
       "                                    NumRespondents  NumKnowsPython  \\\n",
       "Gabon                                            1               1   \n",
       "Saint Lucia                                      1               1   \n",
       "Micronesia, Federated States of...               1               1   \n",
       "Montenegro                                      13               9   \n",
       "Brunei Darussalam                                3               2   \n",
       "...                                            ...             ...   \n",
       "Monaco                                           2               0   \n",
       "Niger                                            5               0   \n",
       "Saint Vincent and the Grenadines                 3               0   \n",
       "Gambia                                           4               0   \n",
       "Marshall Islands                                 1               0   \n",
       "\n",
       "                                    % Knows Python  \n",
       "Gabon                                       100.00  \n",
       "Saint Lucia                                 100.00  \n",
       "Micronesia, Federated States of...          100.00  \n",
       "Montenegro                                   69.23  \n",
       "Brunei Darussalam                            66.67  \n",
       "...                                            ...  \n",
       "Monaco                                        0.00  \n",
       "Niger                                         0.00  \n",
       "Saint Vincent and the Grenadines              0.00  \n",
       "Gambia                                        0.00  \n",
       "Marshall Islands                              0.00  \n",
       "\n",
       "[183 rows x 3 columns]"
      ]
     },
     "execution_count": 167,
     "metadata": {},
     "output_type": "execute_result"
    }
   ],
   "source": [
    "python_df.sort_values(by = \"% Knows Python\", ascending = False)"
   ]
  },
  {
   "cell_type": "code",
   "execution_count": null,
   "id": "86a0d7cf-9411-4f10-a7b3-72305b9b3eaf",
   "metadata": {},
   "outputs": [],
   "source": []
  }
 ],
 "metadata": {
  "kernelspec": {
   "display_name": "Python 3 (ipykernel)",
   "language": "python",
   "name": "python3"
  },
  "language_info": {
   "codemirror_mode": {
    "name": "ipython",
    "version": 3
   },
   "file_extension": ".py",
   "mimetype": "text/x-python",
   "name": "python",
   "nbconvert_exporter": "python",
   "pygments_lexer": "ipython3",
   "version": "3.10.3"
  }
 },
 "nbformat": 4,
 "nbformat_minor": 5
}
