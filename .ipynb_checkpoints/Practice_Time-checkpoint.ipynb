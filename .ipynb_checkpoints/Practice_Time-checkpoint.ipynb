{
 "cells": [
  {
   "cell_type": "code",
   "execution_count": 1,
   "id": "a64bb9fc-d92e-49a1-a9b7-4fe65056d3fd",
   "metadata": {},
   "outputs": [],
   "source": [
    "import pandas as pd"
   ]
  },
  {
   "cell_type": "code",
   "execution_count": 84,
   "id": "441eec58-2272-4680-9f41-bb1be62b2022",
   "metadata": {},
   "outputs": [],
   "source": [
    "accounts = {\n",
    "    \"Account_ID\": [100, 102, 103, 104],\n",
    "    \"Logged-in\": [\"2020-01-03\", \"2021-04-30\", \"2022-06-16\", \"2022-12-09\"],\n",
    "    \"Logged-out\": [\"2020-01-04\", \"2021-05-03\", \"2022-06-17\", \"2023-01-01\"],\n",
    "    \"High\": [1000, 1002, 3000, 1201],\n",
    "    \"Low\": [200, 123, 590, 245]\n",
    "}\n",
    "df = pd.DataFrame(accounts)"
   ]
  },
  {
   "cell_type": "code",
   "execution_count": 76,
   "id": "9d3cf74b-f4a1-454d-b40c-5f173fbeddb9",
   "metadata": {},
   "outputs": [
    {
     "data": {
      "text/html": [
       "<div>\n",
       "<style scoped>\n",
       "    .dataframe tbody tr th:only-of-type {\n",
       "        vertical-align: middle;\n",
       "    }\n",
       "\n",
       "    .dataframe tbody tr th {\n",
       "        vertical-align: top;\n",
       "    }\n",
       "\n",
       "    .dataframe thead th {\n",
       "        text-align: right;\n",
       "    }\n",
       "</style>\n",
       "<table border=\"1\" class=\"dataframe\">\n",
       "  <thead>\n",
       "    <tr style=\"text-align: right;\">\n",
       "      <th></th>\n",
       "      <th>Account_ID</th>\n",
       "      <th>Logged-in</th>\n",
       "      <th>Logged-out</th>\n",
       "      <th>High</th>\n",
       "      <th>Low</th>\n",
       "    </tr>\n",
       "  </thead>\n",
       "  <tbody>\n",
       "    <tr>\n",
       "      <th>0</th>\n",
       "      <td>100</td>\n",
       "      <td>2020-01-03</td>\n",
       "      <td>2020-01-04</td>\n",
       "      <td>1000</td>\n",
       "      <td>200</td>\n",
       "    </tr>\n",
       "    <tr>\n",
       "      <th>1</th>\n",
       "      <td>102</td>\n",
       "      <td>2021-04-30</td>\n",
       "      <td>2021-05-03</td>\n",
       "      <td>1002</td>\n",
       "      <td>123</td>\n",
       "    </tr>\n",
       "    <tr>\n",
       "      <th>2</th>\n",
       "      <td>103</td>\n",
       "      <td>2022-06-16</td>\n",
       "      <td>2022-06-17</td>\n",
       "      <td>3000</td>\n",
       "      <td>590</td>\n",
       "    </tr>\n",
       "    <tr>\n",
       "      <th>3</th>\n",
       "      <td>104</td>\n",
       "      <td>2022-12-09</td>\n",
       "      <td>2023-01-01</td>\n",
       "      <td>1201</td>\n",
       "      <td>245</td>\n",
       "    </tr>\n",
       "  </tbody>\n",
       "</table>\n",
       "</div>"
      ],
      "text/plain": [
       "   Account_ID   Logged-in  Logged-out  High  Low\n",
       "0         100  2020-01-03  2020-01-04  1000  200\n",
       "1         102  2021-04-30  2021-05-03  1002  123\n",
       "2         103  2022-06-16  2022-06-17  3000  590\n",
       "3         104  2022-12-09  2023-01-01  1201  245"
      ]
     },
     "execution_count": 76,
     "metadata": {},
     "output_type": "execute_result"
    }
   ],
   "source": [
    "df"
   ]
  },
  {
   "cell_type": "code",
   "execution_count": 23,
   "id": "2edc13d0-fb30-4427-b7bb-ab905145f8d9",
   "metadata": {},
   "outputs": [],
   "source": [
    "df[\"Logged-in\"] = pd.to_datetime(df[\"Logged-in\"], format = \"%Y-%m-%d\")"
   ]
  },
  {
   "cell_type": "code",
   "execution_count": 43,
   "id": "f25784ad-432c-470a-b8b0-409cb1801d55",
   "metadata": {},
   "outputs": [
    {
     "data": {
      "text/plain": [
       "'Friday'"
      ]
     },
     "execution_count": 43,
     "metadata": {},
     "output_type": "execute_result"
    }
   ],
   "source": [
    "df[\"Logged-in\"].loc[1].day_name()"
   ]
  },
  {
   "cell_type": "code",
   "execution_count": 29,
   "id": "a537b181-094e-4f6f-a4ba-a8ad7cbdb6fa",
   "metadata": {},
   "outputs": [],
   "source": [
    "# d_parser = lambda x: pd.datetime.strptime(x, format = (\"%Y-%m-%d\")\n",
    "# pd.read_csv(\" \", parse_dates = [\"Column_Name\"], date_parser = d_parser)"
   ]
  },
  {
   "cell_type": "code",
   "execution_count": 46,
   "id": "d419cbab-0f67-4445-9f45-9862844f8dc3",
   "metadata": {},
   "outputs": [],
   "source": [
    "df[\"DayOfWeek\"] = df[\"Logged-in\"].dt.day_name()"
   ]
  },
  {
   "cell_type": "code",
   "execution_count": 47,
   "id": "9b971240-dfcd-4ed2-8473-e910d7f3515d",
   "metadata": {},
   "outputs": [
    {
     "data": {
      "text/html": [
       "<div>\n",
       "<style scoped>\n",
       "    .dataframe tbody tr th:only-of-type {\n",
       "        vertical-align: middle;\n",
       "    }\n",
       "\n",
       "    .dataframe tbody tr th {\n",
       "        vertical-align: top;\n",
       "    }\n",
       "\n",
       "    .dataframe thead th {\n",
       "        text-align: right;\n",
       "    }\n",
       "</style>\n",
       "<table border=\"1\" class=\"dataframe\">\n",
       "  <thead>\n",
       "    <tr style=\"text-align: right;\">\n",
       "      <th></th>\n",
       "      <th>Account_ID</th>\n",
       "      <th>Logged-in</th>\n",
       "      <th>Logged-out</th>\n",
       "      <th>DayOfWeek</th>\n",
       "    </tr>\n",
       "  </thead>\n",
       "  <tbody>\n",
       "    <tr>\n",
       "      <th>0</th>\n",
       "      <td>100</td>\n",
       "      <td>2020-01-03</td>\n",
       "      <td>2020-01-04</td>\n",
       "      <td>Friday</td>\n",
       "    </tr>\n",
       "    <tr>\n",
       "      <th>1</th>\n",
       "      <td>102</td>\n",
       "      <td>2021-04-30</td>\n",
       "      <td>2021-05-03</td>\n",
       "      <td>Friday</td>\n",
       "    </tr>\n",
       "    <tr>\n",
       "      <th>2</th>\n",
       "      <td>103</td>\n",
       "      <td>2022-06-16</td>\n",
       "      <td>2022-06-17</td>\n",
       "      <td>Thursday</td>\n",
       "    </tr>\n",
       "    <tr>\n",
       "      <th>3</th>\n",
       "      <td>104</td>\n",
       "      <td>2022-12-09</td>\n",
       "      <td>2023-01-01</td>\n",
       "      <td>Friday</td>\n",
       "    </tr>\n",
       "  </tbody>\n",
       "</table>\n",
       "</div>"
      ],
      "text/plain": [
       "   Account_ID  Logged-in  Logged-out DayOfWeek\n",
       "0         100 2020-01-03  2020-01-04    Friday\n",
       "1         102 2021-04-30  2021-05-03    Friday\n",
       "2         103 2022-06-16  2022-06-17  Thursday\n",
       "3         104 2022-12-09  2023-01-01    Friday"
      ]
     },
     "execution_count": 47,
     "metadata": {},
     "output_type": "execute_result"
    }
   ],
   "source": [
    "df"
   ]
  },
  {
   "cell_type": "code",
   "execution_count": 48,
   "id": "1cee25fd-06b2-49ff-af23-5e4041811d40",
   "metadata": {},
   "outputs": [
    {
     "data": {
      "text/plain": [
       "Timestamp('2020-01-03 00:00:00')"
      ]
     },
     "execution_count": 48,
     "metadata": {},
     "output_type": "execute_result"
    }
   ],
   "source": [
    "df[\"Logged-in\"].min()"
   ]
  },
  {
   "cell_type": "code",
   "execution_count": 49,
   "id": "a1e60bb4-9e55-4fbd-9bff-fbffb7e575ef",
   "metadata": {},
   "outputs": [
    {
     "data": {
      "text/plain": [
       "Timestamp('2022-12-09 00:00:00')"
      ]
     },
     "execution_count": 49,
     "metadata": {},
     "output_type": "execute_result"
    }
   ],
   "source": [
    "df[\"Logged-in\"].max()"
   ]
  },
  {
   "cell_type": "code",
   "execution_count": 50,
   "id": "f1c1e7e9-a668-424a-963b-b5bdccf0760a",
   "metadata": {},
   "outputs": [
    {
     "data": {
      "text/plain": [
       "Timedelta('1071 days 00:00:00')"
      ]
     },
     "execution_count": 50,
     "metadata": {},
     "output_type": "execute_result"
    }
   ],
   "source": [
    "df[\"Logged-in\"].max() - df[\"Logged-in\"].min()"
   ]
  },
  {
   "cell_type": "code",
   "execution_count": 60,
   "id": "e9858c0f-8817-411a-aa51-24a76ef04930",
   "metadata": {},
   "outputs": [],
   "source": [
    "filt = (df[\"Logged-in\"] >= \"2020-12-12\") & (df[\"Logged-in\"] <= \"2022-12-31\")"
   ]
  },
  {
   "cell_type": "code",
   "execution_count": 61,
   "id": "2547cb1b-1b5d-4433-8d1d-ea80052943e1",
   "metadata": {},
   "outputs": [
    {
     "data": {
      "text/html": [
       "<div>\n",
       "<style scoped>\n",
       "    .dataframe tbody tr th:only-of-type {\n",
       "        vertical-align: middle;\n",
       "    }\n",
       "\n",
       "    .dataframe tbody tr th {\n",
       "        vertical-align: top;\n",
       "    }\n",
       "\n",
       "    .dataframe thead th {\n",
       "        text-align: right;\n",
       "    }\n",
       "</style>\n",
       "<table border=\"1\" class=\"dataframe\">\n",
       "  <thead>\n",
       "    <tr style=\"text-align: right;\">\n",
       "      <th></th>\n",
       "      <th>Account_ID</th>\n",
       "      <th>Logged-in</th>\n",
       "      <th>Logged-out</th>\n",
       "      <th>DayOfWeek</th>\n",
       "    </tr>\n",
       "  </thead>\n",
       "  <tbody>\n",
       "    <tr>\n",
       "      <th>1</th>\n",
       "      <td>102</td>\n",
       "      <td>2021-04-30</td>\n",
       "      <td>2021-05-03</td>\n",
       "      <td>Friday</td>\n",
       "    </tr>\n",
       "    <tr>\n",
       "      <th>2</th>\n",
       "      <td>103</td>\n",
       "      <td>2022-06-16</td>\n",
       "      <td>2022-06-17</td>\n",
       "      <td>Thursday</td>\n",
       "    </tr>\n",
       "    <tr>\n",
       "      <th>3</th>\n",
       "      <td>104</td>\n",
       "      <td>2022-12-09</td>\n",
       "      <td>2023-01-01</td>\n",
       "      <td>Friday</td>\n",
       "    </tr>\n",
       "  </tbody>\n",
       "</table>\n",
       "</div>"
      ],
      "text/plain": [
       "   Account_ID  Logged-in  Logged-out DayOfWeek\n",
       "1         102 2021-04-30  2021-05-03    Friday\n",
       "2         103 2022-06-16  2022-06-17  Thursday\n",
       "3         104 2022-12-09  2023-01-01    Friday"
      ]
     },
     "execution_count": 61,
     "metadata": {},
     "output_type": "execute_result"
    }
   ],
   "source": [
    "df.loc[filt]"
   ]
  },
  {
   "cell_type": "code",
   "execution_count": 79,
   "id": "d6509886-b44d-4497-9ad9-1976248597e2",
   "metadata": {},
   "outputs": [],
   "source": [
    "df.set_index(\"Account_ID\", inplace = True)"
   ]
  },
  {
   "cell_type": "code",
   "execution_count": 80,
   "id": "58092429-e639-4df3-8c9f-4399f7e1d014",
   "metadata": {},
   "outputs": [
    {
     "data": {
      "text/html": [
       "<div>\n",
       "<style scoped>\n",
       "    .dataframe tbody tr th:only-of-type {\n",
       "        vertical-align: middle;\n",
       "    }\n",
       "\n",
       "    .dataframe tbody tr th {\n",
       "        vertical-align: top;\n",
       "    }\n",
       "\n",
       "    .dataframe thead th {\n",
       "        text-align: right;\n",
       "    }\n",
       "</style>\n",
       "<table border=\"1\" class=\"dataframe\">\n",
       "  <thead>\n",
       "    <tr style=\"text-align: right;\">\n",
       "      <th></th>\n",
       "      <th>Logged-in</th>\n",
       "      <th>Logged-out</th>\n",
       "      <th>High</th>\n",
       "      <th>Low</th>\n",
       "    </tr>\n",
       "    <tr>\n",
       "      <th>Account_ID</th>\n",
       "      <th></th>\n",
       "      <th></th>\n",
       "      <th></th>\n",
       "      <th></th>\n",
       "    </tr>\n",
       "  </thead>\n",
       "  <tbody>\n",
       "    <tr>\n",
       "      <th>100</th>\n",
       "      <td>2020-01-03</td>\n",
       "      <td>2020-01-04</td>\n",
       "      <td>1000</td>\n",
       "      <td>200</td>\n",
       "    </tr>\n",
       "    <tr>\n",
       "      <th>102</th>\n",
       "      <td>2021-04-30</td>\n",
       "      <td>2021-05-03</td>\n",
       "      <td>1002</td>\n",
       "      <td>123</td>\n",
       "    </tr>\n",
       "    <tr>\n",
       "      <th>103</th>\n",
       "      <td>2022-06-16</td>\n",
       "      <td>2022-06-17</td>\n",
       "      <td>3000</td>\n",
       "      <td>590</td>\n",
       "    </tr>\n",
       "    <tr>\n",
       "      <th>104</th>\n",
       "      <td>2022-12-09</td>\n",
       "      <td>2023-01-01</td>\n",
       "      <td>1201</td>\n",
       "      <td>245</td>\n",
       "    </tr>\n",
       "  </tbody>\n",
       "</table>\n",
       "</div>"
      ],
      "text/plain": [
       "             Logged-in  Logged-out  High  Low\n",
       "Account_ID                                   \n",
       "100         2020-01-03  2020-01-04  1000  200\n",
       "102         2021-04-30  2021-05-03  1002  123\n",
       "103         2022-06-16  2022-06-17  3000  590\n",
       "104         2022-12-09  2023-01-01  1201  245"
      ]
     },
     "execution_count": 80,
     "metadata": {},
     "output_type": "execute_result"
    }
   ],
   "source": [
    "df"
   ]
  },
  {
   "cell_type": "code",
   "execution_count": 81,
   "id": "210c91db-c423-4509-a3b9-ada88dd9205f",
   "metadata": {},
   "outputs": [
    {
     "data": {
      "text/html": [
       "<div>\n",
       "<style scoped>\n",
       "    .dataframe tbody tr th:only-of-type {\n",
       "        vertical-align: middle;\n",
       "    }\n",
       "\n",
       "    .dataframe tbody tr th {\n",
       "        vertical-align: top;\n",
       "    }\n",
       "\n",
       "    .dataframe thead th {\n",
       "        text-align: right;\n",
       "    }\n",
       "</style>\n",
       "<table border=\"1\" class=\"dataframe\">\n",
       "  <thead>\n",
       "    <tr style=\"text-align: right;\">\n",
       "      <th></th>\n",
       "      <th>Logged-in</th>\n",
       "      <th>Logged-out</th>\n",
       "      <th>High</th>\n",
       "      <th>Low</th>\n",
       "    </tr>\n",
       "    <tr>\n",
       "      <th>Account_ID</th>\n",
       "      <th></th>\n",
       "      <th></th>\n",
       "      <th></th>\n",
       "      <th></th>\n",
       "    </tr>\n",
       "  </thead>\n",
       "  <tbody>\n",
       "    <tr>\n",
       "      <th>103</th>\n",
       "      <td>2022-06-16</td>\n",
       "      <td>2022-06-17</td>\n",
       "      <td>3000</td>\n",
       "      <td>590</td>\n",
       "    </tr>\n",
       "    <tr>\n",
       "      <th>104</th>\n",
       "      <td>2022-12-09</td>\n",
       "      <td>2023-01-01</td>\n",
       "      <td>1201</td>\n",
       "      <td>245</td>\n",
       "    </tr>\n",
       "  </tbody>\n",
       "</table>\n",
       "</div>"
      ],
      "text/plain": [
       "             Logged-in  Logged-out  High  Low\n",
       "Account_ID                                   \n",
       "103         2022-06-16  2022-06-17  3000  590\n",
       "104         2022-12-09  2023-01-01  1201  245"
      ]
     },
     "execution_count": 81,
     "metadata": {},
     "output_type": "execute_result"
    }
   ],
   "source": [
    "df.loc[103:]"
   ]
  },
  {
   "cell_type": "code",
   "execution_count": 82,
   "id": "e7b61764-8d35-40f2-8571-207dea994e3b",
   "metadata": {},
   "outputs": [
    {
     "data": {
      "text/html": [
       "<div>\n",
       "<style scoped>\n",
       "    .dataframe tbody tr th:only-of-type {\n",
       "        vertical-align: middle;\n",
       "    }\n",
       "\n",
       "    .dataframe tbody tr th {\n",
       "        vertical-align: top;\n",
       "    }\n",
       "\n",
       "    .dataframe thead th {\n",
       "        text-align: right;\n",
       "    }\n",
       "</style>\n",
       "<table border=\"1\" class=\"dataframe\">\n",
       "  <thead>\n",
       "    <tr style=\"text-align: right;\">\n",
       "      <th></th>\n",
       "      <th>Logged-in</th>\n",
       "      <th>Logged-out</th>\n",
       "      <th>High</th>\n",
       "      <th>Low</th>\n",
       "    </tr>\n",
       "    <tr>\n",
       "      <th>Account_ID</th>\n",
       "      <th></th>\n",
       "      <th></th>\n",
       "      <th></th>\n",
       "      <th></th>\n",
       "    </tr>\n",
       "  </thead>\n",
       "  <tbody>\n",
       "    <tr>\n",
       "      <th>100</th>\n",
       "      <td>2020-01-03</td>\n",
       "      <td>2020-01-04</td>\n",
       "      <td>1000</td>\n",
       "      <td>200</td>\n",
       "    </tr>\n",
       "    <tr>\n",
       "      <th>102</th>\n",
       "      <td>2021-04-30</td>\n",
       "      <td>2021-05-03</td>\n",
       "      <td>1002</td>\n",
       "      <td>123</td>\n",
       "    </tr>\n",
       "    <tr>\n",
       "      <th>103</th>\n",
       "      <td>2022-06-16</td>\n",
       "      <td>2022-06-17</td>\n",
       "      <td>3000</td>\n",
       "      <td>590</td>\n",
       "    </tr>\n",
       "    <tr>\n",
       "      <th>104</th>\n",
       "      <td>2022-12-09</td>\n",
       "      <td>2023-01-01</td>\n",
       "      <td>1201</td>\n",
       "      <td>245</td>\n",
       "    </tr>\n",
       "  </tbody>\n",
       "</table>\n",
       "</div>"
      ],
      "text/plain": [
       "             Logged-in  Logged-out  High  Low\n",
       "Account_ID                                   \n",
       "100         2020-01-03  2020-01-04  1000  200\n",
       "102         2021-04-30  2021-05-03  1002  123\n",
       "103         2022-06-16  2022-06-17  3000  590\n",
       "104         2022-12-09  2023-01-01  1201  245"
      ]
     },
     "execution_count": 82,
     "metadata": {},
     "output_type": "execute_result"
    }
   ],
   "source": [
    "df"
   ]
  },
  {
   "cell_type": "code",
   "execution_count": 92,
   "id": "b8aafa06-7776-410e-8d36-83b20f1fa23a",
   "metadata": {},
   "outputs": [],
   "source": [
    "df.set_index(\"Logged-in\", inplace  = True)"
   ]
  },
  {
   "cell_type": "code",
   "execution_count": 93,
   "id": "4e5b8edb-805f-4fb2-a9d0-cd0f3be52b56",
   "metadata": {},
   "outputs": [
    {
     "data": {
      "text/html": [
       "<div>\n",
       "<style scoped>\n",
       "    .dataframe tbody tr th:only-of-type {\n",
       "        vertical-align: middle;\n",
       "    }\n",
       "\n",
       "    .dataframe tbody tr th {\n",
       "        vertical-align: top;\n",
       "    }\n",
       "\n",
       "    .dataframe thead th {\n",
       "        text-align: right;\n",
       "    }\n",
       "</style>\n",
       "<table border=\"1\" class=\"dataframe\">\n",
       "  <thead>\n",
       "    <tr style=\"text-align: right;\">\n",
       "      <th></th>\n",
       "      <th>Account_ID</th>\n",
       "      <th>Logged-out</th>\n",
       "      <th>High</th>\n",
       "      <th>Low</th>\n",
       "    </tr>\n",
       "    <tr>\n",
       "      <th>Logged-in</th>\n",
       "      <th></th>\n",
       "      <th></th>\n",
       "      <th></th>\n",
       "      <th></th>\n",
       "    </tr>\n",
       "  </thead>\n",
       "  <tbody>\n",
       "    <tr>\n",
       "      <th>2020-01-03</th>\n",
       "      <td>100</td>\n",
       "      <td>2020-01-04</td>\n",
       "      <td>1000</td>\n",
       "      <td>200</td>\n",
       "    </tr>\n",
       "    <tr>\n",
       "      <th>2021-04-30</th>\n",
       "      <td>102</td>\n",
       "      <td>2021-05-03</td>\n",
       "      <td>1002</td>\n",
       "      <td>123</td>\n",
       "    </tr>\n",
       "    <tr>\n",
       "      <th>2022-06-16</th>\n",
       "      <td>103</td>\n",
       "      <td>2022-06-17</td>\n",
       "      <td>3000</td>\n",
       "      <td>590</td>\n",
       "    </tr>\n",
       "    <tr>\n",
       "      <th>2022-12-09</th>\n",
       "      <td>104</td>\n",
       "      <td>2023-01-01</td>\n",
       "      <td>1201</td>\n",
       "      <td>245</td>\n",
       "    </tr>\n",
       "  </tbody>\n",
       "</table>\n",
       "</div>"
      ],
      "text/plain": [
       "            Account_ID  Logged-out  High  Low\n",
       "Logged-in                                    \n",
       "2020-01-03         100  2020-01-04  1000  200\n",
       "2021-04-30         102  2021-05-03  1002  123\n",
       "2022-06-16         103  2022-06-17  3000  590\n",
       "2022-12-09         104  2023-01-01  1201  245"
      ]
     },
     "execution_count": 93,
     "metadata": {},
     "output_type": "execute_result"
    }
   ],
   "source": [
    "df"
   ]
  },
  {
   "cell_type": "code",
   "execution_count": 99,
   "id": "4ae5bc65-c8f8-4c76-a1bb-6694ba8d758e",
   "metadata": {},
   "outputs": [
    {
     "data": {
      "text/plain": [
       "max       3000.0\n",
       "min       1000.0\n",
       "median    1101.5\n",
       "Name: High, dtype: float64"
      ]
     },
     "execution_count": 99,
     "metadata": {},
     "output_type": "execute_result"
    }
   ],
   "source": [
    "df[\"2020\":][\"High\"].agg([\"max\", \"min\", \"median\"])"
   ]
  },
  {
   "cell_type": "code",
   "execution_count": 108,
   "id": "f078b74e-d8e5-47d7-9ee4-b6cdf96cb482",
   "metadata": {},
   "outputs": [],
   "source": [
    "# ---------------------------------------------------------------------------------------------\n",
    "# df[\"High\"].resample(\"D\").max() Use for sampling data by day, week, year, month, etc.\n",
    "# df.resample(\"W\").mean() Use fot entire matrix\n",
    "# df.resample(\"W\"). agg({\"Close\": \"mean\". \"High\": \"max\", \"Low\": \"min\"})"
   ]
  },
  {
   "cell_type": "code",
   "execution_count": 105,
   "id": "a6ee186d-a684-481c-a27d-431aa6bfdc8d",
   "metadata": {},
   "outputs": [],
   "source": [
    "%matplotlib inline"
   ]
  },
  {
   "cell_type": "code",
   "execution_count": 107,
   "id": "a5bbfae1-75f8-4c1f-a811-5767e02b4972",
   "metadata": {},
   "outputs": [
    {
     "data": {
      "text/plain": [
       "<AxesSubplot:xlabel='Logged-in'>"
      ]
     },
     "execution_count": 107,
     "metadata": {},
     "output_type": "execute_result"
    },
    {
     "data": {
      "image/png": "[encoded data removed]",
      "text/plain": [
       "<Figure size 432x288 with 1 Axes>"
      ]
     },
     "metadata": {
      "needs_background": "light"
     },
     "output_type": "display_data"
    }
   ],
   "source": [
    "df[::][\"High\"].plot()"
   ]
  },
  {
   "cell_type": "code",
   "execution_count": null,
   "id": "63b9429e-0f2d-408f-992d-7c54a5649fa4",
   "metadata": {},
   "outputs": [],
   "source": []
  }
 ],
 "metadata": {
  "kernelspec": {
   "display_name": "Python 3 (ipykernel)",
   "language": "python",
   "name": "python3"
  },
  "language_info": {
   "codemirror_mode": {
    "name": "ipython",
    "version": 3
   },
   "file_extension": ".py",
   "mimetype": "text/x-python",
   "name": "python",
   "nbconvert_exporter": "python",
   "pygments_lexer": "ipython3",
   "version": "3.10.3"
  }
 },
 "nbformat": 4,
 "nbformat_minor": 5
}
