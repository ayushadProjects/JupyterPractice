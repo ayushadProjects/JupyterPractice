{
 "cells": [
  {
   "cell_type": "code",
   "execution_count": 1,
   "id": "ff153521-0ebf-4ecf-929e-431a2151cd47",
   "metadata": {},
   "outputs": [],
   "source": [
    "import pandas as pd"
   ]
  },
  {
   "cell_type": "code",
   "execution_count": 2,
   "id": "3697191b-696e-417e-8b0a-cb7e75ac5238",
   "metadata": {},
   "outputs": [],
   "source": [
    "account = {\n",
    "    \"student_ID\": [100, 101, 201, 331],\n",
    "    \"first_name\": [\"Ayush\", \"Ryan\", \"Chisato\", \"Isabelle\"],\n",
    "    \"last_name\": [\"Adhikari\", \"Griffin\", \"Nii\", \"Bui\"],\n",
    "    \"University\": [\"CSU\", \"CSU\", \"CSU\", \"DU\"],\n",
    "    \"Major\": [\"CIS\", \"CS\", \"Piano\", \"Nutrition\"],\n",
    "    \"Salary\": [200000, 100000, 50000, 75000],\n",
    "    \"Age\": [21, 22, 30, 20],\n",
    "    \"GPA\": [4.0, 4.0, 3.5, 3.8],\n",
    "}"
   ]
  },
  {
   "cell_type": "code",
   "execution_count": 3,
   "id": "f8214f9b-20de-4807-89b4-7214329bc8eb",
   "metadata": {},
   "outputs": [],
   "source": [
    "df = pd.DataFrame(account)"
   ]
  },
  {
   "cell_type": "code",
   "execution_count": 4,
   "id": "93e70a12-ce20-43f2-a926-c1980c74314d",
   "metadata": {},
   "outputs": [
    {
     "data": {
      "text/html": [
       "<div>\n",
       "<style scoped>\n",
       "    .dataframe tbody tr th:only-of-type {\n",
       "        vertical-align: middle;\n",
       "    }\n",
       "\n",
       "    .dataframe tbody tr th {\n",
       "        vertical-align: top;\n",
       "    }\n",
       "\n",
       "    .dataframe thead th {\n",
       "        text-align: right;\n",
       "    }\n",
       "</style>\n",
       "<table border=\"1\" class=\"dataframe\">\n",
       "  <thead>\n",
       "    <tr style=\"text-align: right;\">\n",
       "      <th></th>\n",
       "      <th>student_ID</th>\n",
       "      <th>first_name</th>\n",
       "      <th>last_name</th>\n",
       "      <th>University</th>\n",
       "      <th>Major</th>\n",
       "      <th>Salary</th>\n",
       "      <th>Age</th>\n",
       "      <th>GPA</th>\n",
       "    </tr>\n",
       "  </thead>\n",
       "  <tbody>\n",
       "    <tr>\n",
       "      <th>0</th>\n",
       "      <td>100</td>\n",
       "      <td>Ayush</td>\n",
       "      <td>Adhikari</td>\n",
       "      <td>CSU</td>\n",
       "      <td>CIS</td>\n",
       "      <td>200000</td>\n",
       "      <td>21</td>\n",
       "      <td>4.0</td>\n",
       "    </tr>\n",
       "    <tr>\n",
       "      <th>1</th>\n",
       "      <td>101</td>\n",
       "      <td>Ryan</td>\n",
       "      <td>Griffin</td>\n",
       "      <td>CSU</td>\n",
       "      <td>CS</td>\n",
       "      <td>100000</td>\n",
       "      <td>22</td>\n",
       "      <td>4.0</td>\n",
       "    </tr>\n",
       "    <tr>\n",
       "      <th>2</th>\n",
       "      <td>201</td>\n",
       "      <td>Chisato</td>\n",
       "      <td>Nii</td>\n",
       "      <td>CSU</td>\n",
       "      <td>Piano</td>\n",
       "      <td>50000</td>\n",
       "      <td>30</td>\n",
       "      <td>3.5</td>\n",
       "    </tr>\n",
       "    <tr>\n",
       "      <th>3</th>\n",
       "      <td>331</td>\n",
       "      <td>Isabelle</td>\n",
       "      <td>Bui</td>\n",
       "      <td>DU</td>\n",
       "      <td>Nutrition</td>\n",
       "      <td>75000</td>\n",
       "      <td>20</td>\n",
       "      <td>3.8</td>\n",
       "    </tr>\n",
       "  </tbody>\n",
       "</table>\n",
       "</div>"
      ],
      "text/plain": [
       "   student_ID first_name last_name University      Major  Salary  Age  GPA\n",
       "0         100      Ayush  Adhikari        CSU        CIS  200000   21  4.0\n",
       "1         101       Ryan   Griffin        CSU         CS  100000   22  4.0\n",
       "2         201    Chisato       Nii        CSU      Piano   50000   30  3.5\n",
       "3         331   Isabelle       Bui         DU  Nutrition   75000   20  3.8"
      ]
     },
     "execution_count": 4,
     "metadata": {},
     "output_type": "execute_result"
    }
   ],
   "source": [
    "df"
   ]
  },
  {
   "cell_type": "code",
   "execution_count": 5,
   "id": "74722998-e988-4b19-982e-eb4ac3a4acea",
   "metadata": {},
   "outputs": [],
   "source": [
    "filt = (df[\"last_name\"] == \"Adhikari\")"
   ]
  },
  {
   "cell_type": "code",
   "execution_count": 6,
   "id": "f58bf842-c06d-49b4-80b5-bcf759bbd8f8",
   "metadata": {},
   "outputs": [
    {
     "name": "stdout",
     "output_type": "stream",
     "text": [
      "0     True\n",
      "1    False\n",
      "2    False\n",
      "3    False\n",
      "Name: last_name, dtype: bool\n"
     ]
    }
   ],
   "source": [
    "print(filt)"
   ]
  },
  {
   "cell_type": "code",
   "execution_count": 7,
   "id": "b14b4d72-d636-4e2c-815a-e8e72b4437f3",
   "metadata": {},
   "outputs": [
    {
     "data": {
      "text/html": [
       "<div>\n",
       "<style scoped>\n",
       "    .dataframe tbody tr th:only-of-type {\n",
       "        vertical-align: middle;\n",
       "    }\n",
       "\n",
       "    .dataframe tbody tr th {\n",
       "        vertical-align: top;\n",
       "    }\n",
       "\n",
       "    .dataframe thead th {\n",
       "        text-align: right;\n",
       "    }\n",
       "</style>\n",
       "<table border=\"1\" class=\"dataframe\">\n",
       "  <thead>\n",
       "    <tr style=\"text-align: right;\">\n",
       "      <th></th>\n",
       "      <th>student_ID</th>\n",
       "      <th>first_name</th>\n",
       "      <th>last_name</th>\n",
       "      <th>University</th>\n",
       "      <th>Major</th>\n",
       "      <th>Salary</th>\n",
       "      <th>Age</th>\n",
       "      <th>GPA</th>\n",
       "    </tr>\n",
       "  </thead>\n",
       "  <tbody>\n",
       "    <tr>\n",
       "      <th>0</th>\n",
       "      <td>100</td>\n",
       "      <td>Ayush</td>\n",
       "      <td>Adhikari</td>\n",
       "      <td>CSU</td>\n",
       "      <td>CIS</td>\n",
       "      <td>200000</td>\n",
       "      <td>21</td>\n",
       "      <td>4.0</td>\n",
       "    </tr>\n",
       "  </tbody>\n",
       "</table>\n",
       "</div>"
      ],
      "text/plain": [
       "   student_ID first_name last_name University Major  Salary  Age  GPA\n",
       "0         100      Ayush  Adhikari        CSU   CIS  200000   21  4.0"
      ]
     },
     "execution_count": 7,
     "metadata": {},
     "output_type": "execute_result"
    }
   ],
   "source": [
    "df[filt]"
   ]
  },
  {
   "cell_type": "code",
   "execution_count": 8,
   "id": "3c05b5bd-5d29-4178-ad9e-80a625a8a846",
   "metadata": {},
   "outputs": [
    {
     "data": {
      "text/html": [
       "<div>\n",
       "<style scoped>\n",
       "    .dataframe tbody tr th:only-of-type {\n",
       "        vertical-align: middle;\n",
       "    }\n",
       "\n",
       "    .dataframe tbody tr th {\n",
       "        vertical-align: top;\n",
       "    }\n",
       "\n",
       "    .dataframe thead th {\n",
       "        text-align: right;\n",
       "    }\n",
       "</style>\n",
       "<table border=\"1\" class=\"dataframe\">\n",
       "  <thead>\n",
       "    <tr style=\"text-align: right;\">\n",
       "      <th></th>\n",
       "      <th>first_name</th>\n",
       "      <th>Salary</th>\n",
       "    </tr>\n",
       "  </thead>\n",
       "  <tbody>\n",
       "    <tr>\n",
       "      <th>0</th>\n",
       "      <td>Ayush</td>\n",
       "      <td>200000</td>\n",
       "    </tr>\n",
       "  </tbody>\n",
       "</table>\n",
       "</div>"
      ],
      "text/plain": [
       "  first_name  Salary\n",
       "0      Ayush  200000"
      ]
     },
     "execution_count": 8,
     "metadata": {},
     "output_type": "execute_result"
    }
   ],
   "source": [
    "df.loc[filt, [\"first_name\", \"Salary\"]]"
   ]
  },
  {
   "cell_type": "code",
   "execution_count": 9,
   "id": "73d67d1a-4ebd-4a29-94a0-93e09943f2fb",
   "metadata": {},
   "outputs": [],
   "source": [
    "filt_2 = (df[\"University\"] != \"CSU\") & (df[\"Salary\"] > 50000)"
   ]
  },
  {
   "cell_type": "code",
   "execution_count": 10,
   "id": "9b9b3ba5-a6e2-4b2b-9a06-842d4c67cb71",
   "metadata": {},
   "outputs": [
    {
     "data": {
      "text/html": [
       "<div>\n",
       "<style scoped>\n",
       "    .dataframe tbody tr th:only-of-type {\n",
       "        vertical-align: middle;\n",
       "    }\n",
       "\n",
       "    .dataframe tbody tr th {\n",
       "        vertical-align: top;\n",
       "    }\n",
       "\n",
       "    .dataframe thead th {\n",
       "        text-align: right;\n",
       "    }\n",
       "</style>\n",
       "<table border=\"1\" class=\"dataframe\">\n",
       "  <thead>\n",
       "    <tr style=\"text-align: right;\">\n",
       "      <th></th>\n",
       "      <th>student_ID</th>\n",
       "      <th>first_name</th>\n",
       "      <th>last_name</th>\n",
       "      <th>University</th>\n",
       "      <th>Major</th>\n",
       "      <th>Salary</th>\n",
       "      <th>Age</th>\n",
       "      <th>GPA</th>\n",
       "    </tr>\n",
       "  </thead>\n",
       "  <tbody>\n",
       "    <tr>\n",
       "      <th>0</th>\n",
       "      <td>100</td>\n",
       "      <td>Ayush</td>\n",
       "      <td>Adhikari</td>\n",
       "      <td>CSU</td>\n",
       "      <td>CIS</td>\n",
       "      <td>200000</td>\n",
       "      <td>21</td>\n",
       "      <td>4.0</td>\n",
       "    </tr>\n",
       "    <tr>\n",
       "      <th>1</th>\n",
       "      <td>101</td>\n",
       "      <td>Ryan</td>\n",
       "      <td>Griffin</td>\n",
       "      <td>CSU</td>\n",
       "      <td>CS</td>\n",
       "      <td>100000</td>\n",
       "      <td>22</td>\n",
       "      <td>4.0</td>\n",
       "    </tr>\n",
       "    <tr>\n",
       "      <th>2</th>\n",
       "      <td>201</td>\n",
       "      <td>Chisato</td>\n",
       "      <td>Nii</td>\n",
       "      <td>CSU</td>\n",
       "      <td>Piano</td>\n",
       "      <td>50000</td>\n",
       "      <td>30</td>\n",
       "      <td>3.5</td>\n",
       "    </tr>\n",
       "  </tbody>\n",
       "</table>\n",
       "</div>"
      ],
      "text/plain": [
       "   student_ID first_name last_name University  Major  Salary  Age  GPA\n",
       "0         100      Ayush  Adhikari        CSU    CIS  200000   21  4.0\n",
       "1         101       Ryan   Griffin        CSU     CS  100000   22  4.0\n",
       "2         201    Chisato       Nii        CSU  Piano   50000   30  3.5"
      ]
     },
     "execution_count": 10,
     "metadata": {},
     "output_type": "execute_result"
    }
   ],
   "source": [
    "df.loc[~filt_2]"
   ]
  },
  {
   "cell_type": "code",
   "execution_count": 14,
   "id": "5aea6bb8-7b16-48d5-b041-b7c4c9eeb59a",
   "metadata": {},
   "outputs": [],
   "source": [
    "df_public = pd.read_csv(\"survey_results_public.csv\")"
   ]
  },
  {
   "cell_type": "code",
   "execution_count": 37,
   "id": "cf4d1322-09ab-4114-b1c3-6d5db4af42f7",
   "metadata": {},
   "outputs": [],
   "source": [
    "filt_public = (df_public[\"ConvertedComp\"] >= 100000) & (df_public[\"Country\"].isin(country_interested))"
   ]
  },
  {
   "cell_type": "code",
   "execution_count": 24,
   "id": "b6af6f5c-e192-49c1-a15f-8b907f2917f4",
   "metadata": {},
   "outputs": [],
   "source": [
    "country_interested = [\"United States\", \"United Kingdom\", \"Canada\"]"
   ]
  },
  {
   "cell_type": "code",
   "execution_count": 45,
   "id": "fe49fcd3-cfe4-4386-9735-b88996a4effd",
   "metadata": {},
   "outputs": [
    {
     "data": {
      "text/html": [
       "<div>\n",
       "<style scoped>\n",
       "    .dataframe tbody tr th:only-of-type {\n",
       "        vertical-align: middle;\n",
       "    }\n",
       "\n",
       "    .dataframe tbody tr th {\n",
       "        vertical-align: top;\n",
       "    }\n",
       "\n",
       "    .dataframe thead th {\n",
       "        text-align: right;\n",
       "    }\n",
       "</style>\n",
       "<table border=\"1\" class=\"dataframe\">\n",
       "  <thead>\n",
       "    <tr style=\"text-align: right;\">\n",
       "      <th></th>\n",
       "      <th>Country</th>\n",
       "    </tr>\n",
       "  </thead>\n",
       "  <tbody>\n",
       "    <tr>\n",
       "      <th>7</th>\n",
       "      <td>United States</td>\n",
       "    </tr>\n",
       "    <tr>\n",
       "      <th>15</th>\n",
       "      <td>United Kingdom</td>\n",
       "    </tr>\n",
       "    <tr>\n",
       "      <th>17</th>\n",
       "      <td>United States</td>\n",
       "    </tr>\n",
       "    <tr>\n",
       "      <th>40</th>\n",
       "      <td>United States</td>\n",
       "    </tr>\n",
       "    <tr>\n",
       "      <th>41</th>\n",
       "      <td>United States</td>\n",
       "    </tr>\n",
       "    <tr>\n",
       "      <th>...</th>\n",
       "      <td>...</td>\n",
       "    </tr>\n",
       "    <tr>\n",
       "      <th>64083</th>\n",
       "      <td>United States</td>\n",
       "    </tr>\n",
       "    <tr>\n",
       "      <th>64113</th>\n",
       "      <td>United States</td>\n",
       "    </tr>\n",
       "    <tr>\n",
       "      <th>64116</th>\n",
       "      <td>United States</td>\n",
       "    </tr>\n",
       "    <tr>\n",
       "      <th>64127</th>\n",
       "      <td>United States</td>\n",
       "    </tr>\n",
       "    <tr>\n",
       "      <th>64129</th>\n",
       "      <td>United States</td>\n",
       "    </tr>\n",
       "  </tbody>\n",
       "</table>\n",
       "<p>6122 rows × 1 columns</p>\n",
       "</div>"
      ],
      "text/plain": [
       "              Country\n",
       "7       United States\n",
       "15     United Kingdom\n",
       "17      United States\n",
       "40      United States\n",
       "41      United States\n",
       "...               ...\n",
       "64083   United States\n",
       "64113   United States\n",
       "64116   United States\n",
       "64127   United States\n",
       "64129   United States\n",
       "\n",
       "[6122 rows x 1 columns]"
      ]
     },
     "execution_count": 45,
     "metadata": {},
     "output_type": "execute_result"
    }
   ],
   "source": [
    "df_public.loc[filt_public, [\"Country\"]]"
   ]
  },
  {
   "cell_type": "code",
   "execution_count": 73,
   "id": "ad119e5c-2250-4c4b-9609-f229ef543cd7",
   "metadata": {},
   "outputs": [],
   "source": [
    "filt_2 = df_public[\"LanguageWorkedWith\"].str.contains(\"Kotlin\", na = False)"
   ]
  },
  {
   "cell_type": "code",
   "execution_count": 74,
   "id": "682ff105-77a2-4dda-8af9-1ebbe122474a",
   "metadata": {},
   "outputs": [
    {
     "data": {
      "text/plain": [
       "15       Bash/Shell/PowerShell;HTML/CSS;Java;JavaScript...\n",
       "23               Bash/Shell/PowerShell;Java;Kotlin;PHP;SQL\n",
       "51                                             Java;Kotlin\n",
       "87                 Bash/Shell/PowerShell;C++;Kotlin;Python\n",
       "117      Bash/Shell/PowerShell;C#;Go;HTML/CSS;Java;Java...\n",
       "                               ...                        \n",
       "64426    Assembly;C;C++;Dart;HTML/CSS;Java;Kotlin;Pytho...\n",
       "64429             Dart;JavaScript;Kotlin;Python;TypeScript\n",
       "64432    Bash/Shell/PowerShell;C;C++;Go;HTML/CSS;JavaSc...\n",
       "64445    Bash/Shell/PowerShell;C#;C++;HTML/CSS;JavaScri...\n",
       "64457    Assembly;Bash/Shell/PowerShell;C;C#;C++;Dart;G...\n",
       "Name: LanguageWorkedWith, Length: 4468, dtype: object"
      ]
     },
     "execution_count": 74,
     "metadata": {},
     "output_type": "execute_result"
    }
   ],
   "source": [
    "df_public.loc[filt_2, \"LanguageWorkedWith\"]"
   ]
  },
  {
   "cell_type": "code",
   "execution_count": null,
   "id": "3b62e014-1e01-4ed9-aa2c-a2d2520c2817",
   "metadata": {},
   "outputs": [],
   "source": []
  },
  {
   "cell_type": "code",
   "execution_count": null,
   "id": "a7713b37-091a-46f3-94d6-b195ae610ea1",
   "metadata": {},
   "outputs": [],
   "source": []
  }
 ],
 "metadata": {
  "kernelspec": {
   "display_name": "Python 3 (ipykernel)",
   "language": "python",
   "name": "python3"
  },
  "language_info": {
   "codemirror_mode": {
    "name": "ipython",
    "version": 3
   },
   "file_extension": ".py",
   "mimetype": "text/x-python",
   "name": "python",
   "nbconvert_exporter": "python",
   "pygments_lexer": "ipython3",
   "version": "3.10.3"
  }
 },
 "nbformat": 4,
 "nbformat_minor": 5
}
