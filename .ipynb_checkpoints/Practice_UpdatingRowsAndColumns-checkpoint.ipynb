{
 "cells": [
  {
   "cell_type": "code",
   "execution_count": 1,
   "id": "c4c40001-1be0-4f61-bddd-ce9d19fd3a83",
   "metadata": {},
   "outputs": [],
   "source": [
    "import pandas as pd"
   ]
  },
  {
   "cell_type": "code",
   "execution_count": 29,
   "id": "2ceed716-f4be-4fa6-acab-3fabc81d7c62",
   "metadata": {},
   "outputs": [],
   "source": [
    "df = pd.read_csv(\"survey_results_public.csv\")"
   ]
  },
  {
   "cell_type": "code",
   "execution_count": 16,
   "id": "b038f07b-fa70-490f-8142-2983c24ce65f",
   "metadata": {},
   "outputs": [],
   "source": [
    "df.columns = [x.lower() for x in df.columns]"
   ]
  },
  {
   "cell_type": "code",
   "execution_count": 17,
   "id": "3831592f-1adf-4d25-ae0b-c3091cd0b8dd",
   "metadata": {},
   "outputs": [
    {
     "data": {
      "text/plain": [
       "Index(['respondent', 'mainbranch', 'hobbyist', 'age', 'age1stcode', 'compfreq',\n",
       "       'comptotal', 'convertedcomp', 'country', 'currencydesc',\n",
       "       'currencysymbol', 'databasedesirenextyear', 'databaseworkedwith',\n",
       "       'devtype', 'edlevel', 'employment', 'ethnicity', 'gender', 'jobfactors',\n",
       "       'jobsat', 'jobseek', 'languagedesirenextyear', 'languageworkedwith',\n",
       "       'misctechdesirenextyear', 'misctechworkedwith',\n",
       "       'newcollabtoolsdesirenextyear', 'newcollabtoolsworkedwith', 'newdevops',\n",
       "       'newdevopsimpt', 'newedimpt', 'newjobhunt', 'newjobhuntresearch',\n",
       "       'newlearn', 'newofftopic', 'newonboardgood', 'newothercomms',\n",
       "       'newovertime', 'newpurchaseresearch', 'newpurplelink', 'newsosites',\n",
       "       'newstuck', 'opsys', 'orgsize', 'platformdesirenextyear',\n",
       "       'platformworkedwith', 'purchasewhat', 'sexuality', 'soaccount',\n",
       "       'socomm', 'sopartfreq', 'sovisitfreq', 'surveyease', 'surveylength',\n",
       "       'trans', 'undergradmajor', 'webframedesirenextyear',\n",
       "       'webframeworkedwith', 'welcomechange', 'workweekhrs', 'yearscode',\n",
       "       'yearscodepro'],\n",
       "      dtype='object')"
      ]
     },
     "execution_count": 17,
     "metadata": {},
     "output_type": "execute_result"
    }
   ],
   "source": [
    "df.columns"
   ]
  },
  {
   "cell_type": "code",
   "execution_count": 15,
   "id": "3adb3a2b-f1c0-4fcc-891b-e1ba089176cb",
   "metadata": {},
   "outputs": [],
   "source": [
    "df.columns = df.columns.str.replace(\" \", \"_\")"
   ]
  },
  {
   "cell_type": "code",
   "execution_count": 18,
   "id": "9e9b7479-8390-4b6a-a332-f3ca1699f6d6",
   "metadata": {},
   "outputs": [],
   "source": [
    "df.rename(columns = {\"respondent\": \"Respondent\"}, inplace = True)"
   ]
  },
  {
   "cell_type": "code",
   "execution_count": 20,
   "id": "5e12d6d3-c1a6-4af2-8ead-93cc1c984472",
   "metadata": {},
   "outputs": [
    {
     "data": {
      "text/plain": [
       "Index(['Respondent', 'mainbranch', 'hobbyist', 'age', 'age1stcode', 'compfreq',\n",
       "       'comptotal', 'convertedcomp', 'country', 'currencydesc',\n",
       "       'currencysymbol', 'databasedesirenextyear', 'databaseworkedwith',\n",
       "       'devtype', 'edlevel', 'employment', 'ethnicity', 'gender', 'jobfactors',\n",
       "       'jobsat', 'jobseek', 'languagedesirenextyear', 'languageworkedwith',\n",
       "       'misctechdesirenextyear', 'misctechworkedwith',\n",
       "       'newcollabtoolsdesirenextyear', 'newcollabtoolsworkedwith', 'newdevops',\n",
       "       'newdevopsimpt', 'newedimpt', 'newjobhunt', 'newjobhuntresearch',\n",
       "       'newlearn', 'newofftopic', 'newonboardgood', 'newothercomms',\n",
       "       'newovertime', 'newpurchaseresearch', 'newpurplelink', 'newsosites',\n",
       "       'newstuck', 'opsys', 'orgsize', 'platformdesirenextyear',\n",
       "       'platformworkedwith', 'purchasewhat', 'sexuality', 'soaccount',\n",
       "       'socomm', 'sopartfreq', 'sovisitfreq', 'surveyease', 'surveylength',\n",
       "       'trans', 'undergradmajor', 'webframedesirenextyear',\n",
       "       'webframeworkedwith', 'welcomechange', 'workweekhrs', 'yearscode',\n",
       "       'yearscodepro'],\n",
       "      dtype='object')"
      ]
     },
     "execution_count": 20,
     "metadata": {},
     "output_type": "execute_result"
    }
   ],
   "source": [
    "df.columns"
   ]
  },
  {
   "cell_type": "code",
   "execution_count": 81,
   "id": "f74ea441-3328-443f-bad3-12a28996c983",
   "metadata": {},
   "outputs": [],
   "source": [
    "account = {\n",
    "    \"student_ID\": [100, 101, 201, 331],\n",
    "    \"first_name\": [\"Ayush\", \"Ryan\", \"Chisato\", \"Isabelle\"],\n",
    "    \"last_name\": [\"Adhikari\", \"Griffin\", \"Nii\", \"Bui\"],\n",
    "    \"University\": [\"CSU\", \"CSU\", \"CSU\", \"DU\"],\n",
    "    \"Major\": [\"CIS\", \"CS\", \"Piano\", \"Nutrition\"],\n",
    "    \"Salary\": [200000, 100000, 50000, 75000],\n",
    "    \"Age\": [21, 22, 30, 20],\n",
    "    \"GPA\": [4.0, 4.0, 3.5, 3.8],\n",
    "}"
   ]
  },
  {
   "cell_type": "code",
   "execution_count": 110,
   "id": "93ac7b64-318f-44f3-b037-7cf1bcbc961c",
   "metadata": {},
   "outputs": [],
   "source": [
    "accounts = pd.DataFrame(account)"
   ]
  },
  {
   "cell_type": "code",
   "execution_count": 35,
   "id": "0180df3a-09e0-4b45-9489-3a846258cab7",
   "metadata": {},
   "outputs": [],
   "source": [
    "accounts.loc[1, \"GPA\"] = 3.75"
   ]
  },
  {
   "cell_type": "code",
   "execution_count": 36,
   "id": "8479e5f2-101c-4b9d-94ea-9ed9dab2f38e",
   "metadata": {},
   "outputs": [
    {
     "data": {
      "text/plain": [
       "student_ID        101\n",
       "first_name       Ryan\n",
       "last_name     Griffin\n",
       "University        CSU\n",
       "Major              CS\n",
       "Salary         100000\n",
       "Age                22\n",
       "GPA              3.75\n",
       "Name: 1, dtype: object"
      ]
     },
     "execution_count": 36,
     "metadata": {},
     "output_type": "execute_result"
    }
   ],
   "source": [
    "accounts.loc[1]"
   ]
  },
  {
   "cell_type": "code",
   "execution_count": 43,
   "id": "979fb0dc-6a15-4992-8af0-e255032ac6b6",
   "metadata": {},
   "outputs": [
    {
     "data": {
      "text/plain": [
       "201"
      ]
     },
     "execution_count": 43,
     "metadata": {},
     "output_type": "execute_result"
    }
   ],
   "source": [
    "accounts.at[1, \"student_ID\"]"
   ]
  },
  {
   "cell_type": "code",
   "execution_count": 48,
   "id": "bbe605c1-f575-4dfa-9c99-55a417506bc4",
   "metadata": {},
   "outputs": [
    {
     "data": {
      "text/html": [
       "<div>\n",
       "<style scoped>\n",
       "    .dataframe tbody tr th:only-of-type {\n",
       "        vertical-align: middle;\n",
       "    }\n",
       "\n",
       "    .dataframe tbody tr th {\n",
       "        vertical-align: top;\n",
       "    }\n",
       "\n",
       "    .dataframe thead th {\n",
       "        text-align: right;\n",
       "    }\n",
       "</style>\n",
       "<table border=\"1\" class=\"dataframe\">\n",
       "  <thead>\n",
       "    <tr style=\"text-align: right;\">\n",
       "      <th></th>\n",
       "      <th>student_ID</th>\n",
       "      <th>first_name</th>\n",
       "      <th>last_name</th>\n",
       "      <th>University</th>\n",
       "      <th>Major</th>\n",
       "      <th>Salary</th>\n",
       "      <th>Age</th>\n",
       "      <th>GPA</th>\n",
       "    </tr>\n",
       "  </thead>\n",
       "  <tbody>\n",
       "    <tr>\n",
       "      <th>0</th>\n",
       "      <td>100</td>\n",
       "      <td>Ayush</td>\n",
       "      <td>Adhikari</td>\n",
       "      <td>CSU</td>\n",
       "      <td>CIS</td>\n",
       "      <td>200000</td>\n",
       "      <td>21</td>\n",
       "      <td>4.00</td>\n",
       "    </tr>\n",
       "    <tr>\n",
       "      <th>1</th>\n",
       "      <td>201</td>\n",
       "      <td>Ryan</td>\n",
       "      <td>Griffin</td>\n",
       "      <td>CSU</td>\n",
       "      <td>CS</td>\n",
       "      <td>100000</td>\n",
       "      <td>22</td>\n",
       "      <td>3.75</td>\n",
       "    </tr>\n",
       "  </tbody>\n",
       "</table>\n",
       "</div>"
      ],
      "text/plain": [
       "   student_ID first_name last_name University Major  Salary  Age   GPA\n",
       "0         100      Ayush  Adhikari        CSU   CIS  200000   21  4.00\n",
       "1         201       Ryan   Griffin        CSU    CS  100000   22  3.75"
      ]
     },
     "execution_count": 48,
     "metadata": {},
     "output_type": "execute_result"
    }
   ],
   "source": [
    "filt = (accounts[\"Salary\"] >= 100000)\n",
    "accounts[filt]"
   ]
  },
  {
   "cell_type": "code",
   "execution_count": 54,
   "id": "86d6cb26-d603-485a-ae6a-4fdd7e3d4833",
   "metadata": {},
   "outputs": [],
   "source": [
    "accounts.set_index(\"student_ID\", inplace = True)"
   ]
  },
  {
   "cell_type": "code",
   "execution_count": 61,
   "id": "e15a67ca-1afe-46ce-af27-68c307f3a07c",
   "metadata": {},
   "outputs": [
    {
     "name": "stdout",
     "output_type": "stream",
     "text": [
      "That student_ID does not exist\n"
     ]
    }
   ],
   "source": [
    "accounts.loc[101] if 101 == True else print(\"That student_ID does not exist\")"
   ]
  },
  {
   "cell_type": "code",
   "execution_count": 83,
   "id": "e2d2b5b1-11c8-47a2-bfbb-ba27fdc6900b",
   "metadata": {},
   "outputs": [
    {
     "data": {
      "text/html": [
       "<div>\n",
       "<style scoped>\n",
       "    .dataframe tbody tr th:only-of-type {\n",
       "        vertical-align: middle;\n",
       "    }\n",
       "\n",
       "    .dataframe tbody tr th {\n",
       "        vertical-align: top;\n",
       "    }\n",
       "\n",
       "    .dataframe thead th {\n",
       "        text-align: right;\n",
       "    }\n",
       "</style>\n",
       "<table border=\"1\" class=\"dataframe\">\n",
       "  <thead>\n",
       "    <tr style=\"text-align: right;\">\n",
       "      <th></th>\n",
       "      <th>student_ID</th>\n",
       "      <th>first_name</th>\n",
       "      <th>last_name</th>\n",
       "      <th>University</th>\n",
       "      <th>Major</th>\n",
       "      <th>Salary</th>\n",
       "      <th>Age</th>\n",
       "      <th>GPA</th>\n",
       "    </tr>\n",
       "  </thead>\n",
       "  <tbody>\n",
       "    <tr>\n",
       "      <th>0</th>\n",
       "      <td>100</td>\n",
       "      <td>Ayush</td>\n",
       "      <td>Adhikari</td>\n",
       "      <td>CSU</td>\n",
       "      <td>CIS</td>\n",
       "      <td>200000</td>\n",
       "      <td>21</td>\n",
       "      <td>4.0</td>\n",
       "    </tr>\n",
       "    <tr>\n",
       "      <th>1</th>\n",
       "      <td>101</td>\n",
       "      <td>Ryan</td>\n",
       "      <td>Griffin</td>\n",
       "      <td>CSU</td>\n",
       "      <td>CS</td>\n",
       "      <td>100000</td>\n",
       "      <td>22</td>\n",
       "      <td>4.0</td>\n",
       "    </tr>\n",
       "    <tr>\n",
       "      <th>2</th>\n",
       "      <td>201</td>\n",
       "      <td>Chisato</td>\n",
       "      <td>Nii</td>\n",
       "      <td>CSU</td>\n",
       "      <td>Piano</td>\n",
       "      <td>50000</td>\n",
       "      <td>30</td>\n",
       "      <td>3.5</td>\n",
       "    </tr>\n",
       "    <tr>\n",
       "      <th>3</th>\n",
       "      <td>331</td>\n",
       "      <td>Isabelle</td>\n",
       "      <td>Bui</td>\n",
       "      <td>DU</td>\n",
       "      <td>Nutrition</td>\n",
       "      <td>75000</td>\n",
       "      <td>20</td>\n",
       "      <td>3.8</td>\n",
       "    </tr>\n",
       "  </tbody>\n",
       "</table>\n",
       "</div>"
      ],
      "text/plain": [
       "   student_ID first_name last_name University      Major  Salary  Age  GPA\n",
       "0         100      Ayush  Adhikari        CSU        CIS  200000   21  4.0\n",
       "1         101       Ryan   Griffin        CSU         CS  100000   22  4.0\n",
       "2         201    Chisato       Nii        CSU      Piano   50000   30  3.5\n",
       "3         331   Isabelle       Bui         DU  Nutrition   75000   20  3.8"
      ]
     },
     "execution_count": 83,
     "metadata": {},
     "output_type": "execute_result"
    }
   ],
   "source": [
    "accounts.loc[:]"
   ]
  },
  {
   "cell_type": "code",
   "execution_count": 141,
   "id": "00be56f5-d91d-4372-96a5-35746fc08905",
   "metadata": {},
   "outputs": [],
   "source": [
    "#apply\n",
    "#map\n",
    "#applymap\n",
    "#replace"
   ]
  },
  {
   "cell_type": "code",
   "execution_count": 89,
   "id": "12be1a07-766a-40d1-a9be-277270745a90",
   "metadata": {},
   "outputs": [
    {
     "data": {
      "text/plain": [
       "0    5\n",
       "1    4\n",
       "2    7\n",
       "3    8\n",
       "Name: first_name, dtype: int64"
      ]
     },
     "execution_count": 89,
     "metadata": {},
     "output_type": "execute_result"
    }
   ],
   "source": [
    "accounts[\"first_name\"].apply(len)"
   ]
  },
  {
   "cell_type": "code",
   "execution_count": 106,
   "id": "5e8492ef-bbdd-4c01-9fca-09c5d13e4f94",
   "metadata": {},
   "outputs": [],
   "source": [
    "update_lastName = lambda last_name : last_name.lower()"
   ]
  },
  {
   "cell_type": "code",
   "execution_count": 108,
   "id": "41aa1241-d6b3-4f22-b4cd-2f0a0e5dd43e",
   "metadata": {},
   "outputs": [],
   "source": [
    "accounts[\"last_name\"] = accounts[\"last_name\"].apply(update_lastName)"
   ]
  },
  {
   "cell_type": "code",
   "execution_count": 111,
   "id": "f84b53cd-c456-472d-acf5-d6176589e7eb",
   "metadata": {},
   "outputs": [
    {
     "data": {
      "text/html": [
       "<div>\n",
       "<style scoped>\n",
       "    .dataframe tbody tr th:only-of-type {\n",
       "        vertical-align: middle;\n",
       "    }\n",
       "\n",
       "    .dataframe tbody tr th {\n",
       "        vertical-align: top;\n",
       "    }\n",
       "\n",
       "    .dataframe thead th {\n",
       "        text-align: right;\n",
       "    }\n",
       "</style>\n",
       "<table border=\"1\" class=\"dataframe\">\n",
       "  <thead>\n",
       "    <tr style=\"text-align: right;\">\n",
       "      <th></th>\n",
       "      <th>student_ID</th>\n",
       "      <th>first_name</th>\n",
       "      <th>last_name</th>\n",
       "      <th>University</th>\n",
       "      <th>Major</th>\n",
       "      <th>Salary</th>\n",
       "      <th>Age</th>\n",
       "      <th>GPA</th>\n",
       "    </tr>\n",
       "  </thead>\n",
       "  <tbody>\n",
       "    <tr>\n",
       "      <th>0</th>\n",
       "      <td>100</td>\n",
       "      <td>Ayush</td>\n",
       "      <td>Adhikari</td>\n",
       "      <td>CSU</td>\n",
       "      <td>CIS</td>\n",
       "      <td>200000</td>\n",
       "      <td>21</td>\n",
       "      <td>4.0</td>\n",
       "    </tr>\n",
       "    <tr>\n",
       "      <th>1</th>\n",
       "      <td>101</td>\n",
       "      <td>Ryan</td>\n",
       "      <td>Griffin</td>\n",
       "      <td>CSU</td>\n",
       "      <td>CS</td>\n",
       "      <td>100000</td>\n",
       "      <td>22</td>\n",
       "      <td>4.0</td>\n",
       "    </tr>\n",
       "    <tr>\n",
       "      <th>2</th>\n",
       "      <td>201</td>\n",
       "      <td>Chisato</td>\n",
       "      <td>Nii</td>\n",
       "      <td>CSU</td>\n",
       "      <td>Piano</td>\n",
       "      <td>50000</td>\n",
       "      <td>30</td>\n",
       "      <td>3.5</td>\n",
       "    </tr>\n",
       "    <tr>\n",
       "      <th>3</th>\n",
       "      <td>331</td>\n",
       "      <td>Isabelle</td>\n",
       "      <td>Bui</td>\n",
       "      <td>DU</td>\n",
       "      <td>Nutrition</td>\n",
       "      <td>75000</td>\n",
       "      <td>20</td>\n",
       "      <td>3.8</td>\n",
       "    </tr>\n",
       "  </tbody>\n",
       "</table>\n",
       "</div>"
      ],
      "text/plain": [
       "   student_ID first_name last_name University      Major  Salary  Age  GPA\n",
       "0         100      Ayush  Adhikari        CSU        CIS  200000   21  4.0\n",
       "1         101       Ryan   Griffin        CSU         CS  100000   22  4.0\n",
       "2         201    Chisato       Nii        CSU      Piano   50000   30  3.5\n",
       "3         331   Isabelle       Bui         DU  Nutrition   75000   20  3.8"
      ]
     },
     "execution_count": 111,
     "metadata": {},
     "output_type": "execute_result"
    }
   ],
   "source": [
    "accounts"
   ]
  },
  {
   "cell_type": "code",
   "execution_count": 117,
   "id": "d7767fb1-1016-4939-b2d0-b15478ed491f",
   "metadata": {},
   "outputs": [
    {
     "data": {
      "text/plain": [
       "0    8\n",
       "1    8\n",
       "2    8\n",
       "3    8\n",
       "dtype: int64"
      ]
     },
     "execution_count": 117,
     "metadata": {},
     "output_type": "execute_result"
    }
   ],
   "source": [
    "accounts.apply(len, axis = \"columns\")"
   ]
  },
  {
   "cell_type": "code",
   "execution_count": 115,
   "id": "e5c3d069-c84e-4acf-afac-aefe6f57c0fb",
   "metadata": {},
   "outputs": [
    {
     "data": {
      "text/plain": [
       "4"
      ]
     },
     "execution_count": 115,
     "metadata": {},
     "output_type": "execute_result"
    }
   ],
   "source": [
    "len(accounts[\"last_name\"])"
   ]
  },
  {
   "cell_type": "code",
   "execution_count": 118,
   "id": "00b9c0d7-708b-412b-9a4a-ea6163e4c02c",
   "metadata": {},
   "outputs": [
    {
     "data": {
      "text/plain": [
       "(4, 8)"
      ]
     },
     "execution_count": 118,
     "metadata": {},
     "output_type": "execute_result"
    }
   ],
   "source": [
    "accounts.shape"
   ]
  },
  {
   "cell_type": "code",
   "execution_count": 127,
   "id": "b73e8945-2ce4-4acf-9856-7d464e056c7c",
   "metadata": {},
   "outputs": [
    {
     "data": {
      "text/plain": [
       "100"
      ]
     },
     "execution_count": 127,
     "metadata": {},
     "output_type": "execute_result"
    }
   ],
   "source": [
    "accounts[\"student_ID\"].min()"
   ]
  },
  {
   "cell_type": "code",
   "execution_count": 129,
   "id": "4de27a13-7a6b-4356-8e2f-c86181cc687c",
   "metadata": {},
   "outputs": [
    {
     "data": {
      "text/plain": [
       "student_ID       331\n",
       "first_name      Ryan\n",
       "last_name        Nii\n",
       "University        DU\n",
       "Major          Piano\n",
       "Salary        200000\n",
       "Age               30\n",
       "GPA              4.0\n",
       "dtype: object"
      ]
     },
     "execution_count": 129,
     "metadata": {},
     "output_type": "execute_result"
    }
   ],
   "source": [
    "accounts.apply(pd.Series.max)"
   ]
  },
  {
   "cell_type": "code",
   "execution_count": 145,
   "id": "352adf7a-e4f3-4388-ac72-d60c69bb196b",
   "metadata": {},
   "outputs": [
    {
     "data": {
      "text/plain": [
       "0     Ass\n",
       "1    Tits\n",
       "2     NaN\n",
       "3     NaN\n",
       "Name: first_name, dtype: object"
      ]
     },
     "execution_count": 145,
     "metadata": {},
     "output_type": "execute_result"
    }
   ],
   "source": [
    "accounts[\"first_name\"].map({\"Ayush\": \"Ass\", \"Ryan\": \"Tits\"})"
   ]
  },
  {
   "cell_type": "code",
   "execution_count": 148,
   "id": "97b4e4f0-4b2a-4596-8d56-2e47521cfcaf",
   "metadata": {},
   "outputs": [],
   "source": [
    "accounts[\"first_name\"].replace({\"Ayush\": \"Ass\", \"Ryan\": \"Tits\"}, inplace = True)"
   ]
  },
  {
   "cell_type": "code",
   "execution_count": 149,
   "id": "c7b16f4e-3502-4bd8-aa97-f236ce1e788e",
   "metadata": {},
   "outputs": [
    {
     "data": {
      "text/html": [
       "<div>\n",
       "<style scoped>\n",
       "    .dataframe tbody tr th:only-of-type {\n",
       "        vertical-align: middle;\n",
       "    }\n",
       "\n",
       "    .dataframe tbody tr th {\n",
       "        vertical-align: top;\n",
       "    }\n",
       "\n",
       "    .dataframe thead th {\n",
       "        text-align: right;\n",
       "    }\n",
       "</style>\n",
       "<table border=\"1\" class=\"dataframe\">\n",
       "  <thead>\n",
       "    <tr style=\"text-align: right;\">\n",
       "      <th></th>\n",
       "      <th>student_ID</th>\n",
       "      <th>first_name</th>\n",
       "      <th>last_name</th>\n",
       "      <th>University</th>\n",
       "      <th>Major</th>\n",
       "      <th>Salary</th>\n",
       "      <th>Age</th>\n",
       "      <th>GPA</th>\n",
       "    </tr>\n",
       "  </thead>\n",
       "  <tbody>\n",
       "    <tr>\n",
       "      <th>0</th>\n",
       "      <td>100</td>\n",
       "      <td>Ass</td>\n",
       "      <td>Adhikari</td>\n",
       "      <td>CSU</td>\n",
       "      <td>CIS</td>\n",
       "      <td>200000</td>\n",
       "      <td>21</td>\n",
       "      <td>4.0</td>\n",
       "    </tr>\n",
       "    <tr>\n",
       "      <th>1</th>\n",
       "      <td>101</td>\n",
       "      <td>Tits</td>\n",
       "      <td>Griffin</td>\n",
       "      <td>CSU</td>\n",
       "      <td>CS</td>\n",
       "      <td>100000</td>\n",
       "      <td>22</td>\n",
       "      <td>4.0</td>\n",
       "    </tr>\n",
       "    <tr>\n",
       "      <th>2</th>\n",
       "      <td>201</td>\n",
       "      <td>Chisato</td>\n",
       "      <td>Nii</td>\n",
       "      <td>CSU</td>\n",
       "      <td>Piano</td>\n",
       "      <td>50000</td>\n",
       "      <td>30</td>\n",
       "      <td>3.5</td>\n",
       "    </tr>\n",
       "    <tr>\n",
       "      <th>3</th>\n",
       "      <td>331</td>\n",
       "      <td>Isabelle</td>\n",
       "      <td>Bui</td>\n",
       "      <td>DU</td>\n",
       "      <td>Nutrition</td>\n",
       "      <td>75000</td>\n",
       "      <td>20</td>\n",
       "      <td>3.8</td>\n",
       "    </tr>\n",
       "  </tbody>\n",
       "</table>\n",
       "</div>"
      ],
      "text/plain": [
       "   student_ID first_name last_name University      Major  Salary  Age  GPA\n",
       "0         100        Ass  Adhikari        CSU        CIS  200000   21  4.0\n",
       "1         101       Tits   Griffin        CSU         CS  100000   22  4.0\n",
       "2         201    Chisato       Nii        CSU      Piano   50000   30  3.5\n",
       "3         331   Isabelle       Bui         DU  Nutrition   75000   20  3.8"
      ]
     },
     "execution_count": 149,
     "metadata": {},
     "output_type": "execute_result"
    }
   ],
   "source": [
    "accounts"
   ]
  },
  {
   "cell_type": "code",
   "execution_count": 152,
   "id": "c5393367-b968-49d6-8802-ab937b4eb898",
   "metadata": {},
   "outputs": [],
   "source": [
    "df.rename(columns = {\"ConvertedComp\": \"Salary\"}, inplace = True)"
   ]
  },
  {
   "cell_type": "code",
   "execution_count": 153,
   "id": "3247f5ee-bf0a-42c1-bab3-75c7bb2827ee",
   "metadata": {},
   "outputs": [
    {
     "data": {
      "text/plain": [
       "0       NaN\n",
       "1       NaN\n",
       "2       NaN\n",
       "3       NaN\n",
       "4       NaN\n",
       "         ..\n",
       "64456   NaN\n",
       "64457   NaN\n",
       "64458   NaN\n",
       "64459   NaN\n",
       "64460   NaN\n",
       "Name: Salary, Length: 64461, dtype: float64"
      ]
     },
     "execution_count": 153,
     "metadata": {},
     "output_type": "execute_result"
    }
   ],
   "source": [
    "df[\"Salary\"]"
   ]
  },
  {
   "cell_type": "code",
   "execution_count": null,
   "id": "641446aa-43cd-4d5a-af2c-1efbb1222539",
   "metadata": {},
   "outputs": [],
   "source": []
  }
 ],
 "metadata": {
  "kernelspec": {
   "display_name": "Python 3 (ipykernel)",
   "language": "python",
   "name": "python3"
  },
  "language_info": {
   "codemirror_mode": {
    "name": "ipython",
    "version": 3
   },
   "file_extension": ".py",
   "mimetype": "text/x-python",
   "name": "python",
   "nbconvert_exporter": "python",
   "pygments_lexer": "ipython3",
   "version": "3.10.3"
  }
 },
 "nbformat": 4,
 "nbformat_minor": 5
}
