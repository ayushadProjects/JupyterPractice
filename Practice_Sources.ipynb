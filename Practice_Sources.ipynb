{
 "cells": [
  {
   "cell_type": "code",
   "execution_count": 1,
   "id": "2eec050b-0c9b-40f8-93f1-e2b1174b478f",
   "metadata": {},
   "outputs": [],
   "source": [
    "import pandas as pd"
   ]
  },
  {
   "cell_type": "code",
   "execution_count": 8,
   "id": "13372ed6-78db-480d-b94c-b1cf073f3e65",
   "metadata": {},
   "outputs": [],
   "source": [
    "# pd.read_csv(\"Path\", index_col = \" \", na_values = \" \", \n",
    "#     parse_dates = [\"Column_Name\"], date_parser = d_parser)"
   ]
  },
  {
   "cell_type": "code",
   "execution_count": 4,
   "id": "30f940ca-cb60-459c-81e9-b067d799ad15",
   "metadata": {},
   "outputs": [],
   "source": [
    "# To write to csv files\n",
    "#name_of_dataframe.to_csv(\"Path.csv\")"
   ]
  },
  {
   "cell_type": "code",
   "execution_count": 5,
   "id": "b26b1429-27ce-4c4a-8f9f-6dd42c2ef258",
   "metadata": {},
   "outputs": [],
   "source": [
    "# To write to .tsv files\n",
    "#name_of_dataframe.to_tsv(\"Path.csv\", sep = \"\\t\")"
   ]
  },
  {
   "cell_type": "code",
   "execution_count": 7,
   "id": "76d212bc-970c-45b9-9ab0-e3e7bd64863e",
   "metadata": {},
   "outputs": [],
   "source": [
    "# For excel, need to install xlwt, openpyxl, xlrd\n",
    "# name_of_dataframe.to_excel(\"Path.xlsx\")\n",
    "# pd.read_excel(\"Path\", index_col = \" \")"
   ]
  },
  {
   "cell_type": "code",
   "execution_count": 9,
   "id": "44e8a303-7fb6-4bc6-8877-3a4442860cd2",
   "metadata": {},
   "outputs": [],
   "source": [
    "# For SQL, need to install SQLAlchemy, psycopg2-binary for PostgresSQL"
   ]
  },
  {
   "cell_type": "code",
   "execution_count": null,
   "id": "de3a3a86-bd16-432f-a5af-99b42a8489ff",
   "metadata": {},
   "outputs": [],
   "source": []
  }
 ],
 "metadata": {
  "kernelspec": {
   "display_name": "Python 3 (ipykernel)",
   "language": "python",
   "name": "python3"
  },
  "language_info": {
   "codemirror_mode": {
    "name": "ipython",
    "version": 3
   },
   "file_extension": ".py",
   "mimetype": "text/x-python",
   "name": "python",
   "nbconvert_exporter": "python",
   "pygments_lexer": "ipython3",
   "version": "3.10.3"
  }
 },
 "nbformat": 4,
 "nbformat_minor": 5
}
