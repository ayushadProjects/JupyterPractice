{
 "cells": [
  {
   "cell_type": "code",
   "execution_count": 1,
   "id": "4d667e43-5ea2-46dd-80d2-ea325d1af368",
   "metadata": {},
   "outputs": [],
   "source": [
    "import pandas as pd"
   ]
  },
  {
   "cell_type": "code",
   "execution_count": 8,
   "id": "9de2b17e-c614-4069-bbf0-97ea9442e192",
   "metadata": {},
   "outputs": [],
   "source": [
    "account = {\n",
    "    \"first_name\": [\"Ayush\", \"Ryan\", \"Chisato\", \"Isabelle\"],\n",
    "    \"last_name\": [\"Adhikari\", \"Griffin\", \"Nii\", \"Bui\"],\n",
    "    \"University\": [\"CSU\", \"CSU\", \"CSU\", \"DU\"],\n",
    "    \"Major\": [\"CIS\", \"CS\", \"Piano\", \"Nutrition\"]\n",
    "}"
   ]
  },
  {
   "cell_type": "code",
   "execution_count": 16,
   "id": "468981ef-92c4-449b-a0d5-81a795f9252b",
   "metadata": {},
   "outputs": [],
   "source": [
    "df = pd.DataFrame(account)"
   ]
  },
  {
   "cell_type": "code",
   "execution_count": 21,
   "id": "2ca5de8a-e4be-4c41-a644-9d1d4eea7601",
   "metadata": {},
   "outputs": [
    {
     "data": {
      "text/html": [
       "<div>\n",
       "<style scoped>\n",
       "    .dataframe tbody tr th:only-of-type {\n",
       "        vertical-align: middle;\n",
       "    }\n",
       "\n",
       "    .dataframe tbody tr th {\n",
       "        vertical-align: top;\n",
       "    }\n",
       "\n",
       "    .dataframe thead th {\n",
       "        text-align: right;\n",
       "    }\n",
       "</style>\n",
       "<table border=\"1\" class=\"dataframe\">\n",
       "  <thead>\n",
       "    <tr style=\"text-align: right;\">\n",
       "      <th></th>\n",
       "      <th>first_name</th>\n",
       "      <th>last_name</th>\n",
       "      <th>University</th>\n",
       "      <th>Major</th>\n",
       "    </tr>\n",
       "  </thead>\n",
       "  <tbody>\n",
       "    <tr>\n",
       "      <th>0</th>\n",
       "      <td>Ayush</td>\n",
       "      <td>Adhikari</td>\n",
       "      <td>CSU</td>\n",
       "      <td>CIS</td>\n",
       "    </tr>\n",
       "    <tr>\n",
       "      <th>1</th>\n",
       "      <td>Ryan</td>\n",
       "      <td>Griffin</td>\n",
       "      <td>CSU</td>\n",
       "      <td>CS</td>\n",
       "    </tr>\n",
       "    <tr>\n",
       "      <th>2</th>\n",
       "      <td>Chisato</td>\n",
       "      <td>Nii</td>\n",
       "      <td>CSU</td>\n",
       "      <td>Piano</td>\n",
       "    </tr>\n",
       "    <tr>\n",
       "      <th>3</th>\n",
       "      <td>Isabelle</td>\n",
       "      <td>Bui</td>\n",
       "      <td>DU</td>\n",
       "      <td>Nutrition</td>\n",
       "    </tr>\n",
       "  </tbody>\n",
       "</table>\n",
       "</div>"
      ],
      "text/plain": [
       "  first_name last_name University      Major\n",
       "0      Ayush  Adhikari        CSU        CIS\n",
       "1       Ryan   Griffin        CSU         CS\n",
       "2    Chisato       Nii        CSU      Piano\n",
       "3   Isabelle       Bui         DU  Nutrition"
      ]
     },
     "execution_count": 21,
     "metadata": {},
     "output_type": "execute_result"
    }
   ],
   "source": [
    "df"
   ]
  },
  {
   "cell_type": "code",
   "execution_count": 24,
   "id": "f27011b5-c115-44ad-8228-3479d8702447",
   "metadata": {},
   "outputs": [
    {
     "data": {
      "text/html": [
       "<div>\n",
       "<style scoped>\n",
       "    .dataframe tbody tr th:only-of-type {\n",
       "        vertical-align: middle;\n",
       "    }\n",
       "\n",
       "    .dataframe tbody tr th {\n",
       "        vertical-align: top;\n",
       "    }\n",
       "\n",
       "    .dataframe thead th {\n",
       "        text-align: right;\n",
       "    }\n",
       "</style>\n",
       "<table border=\"1\" class=\"dataframe\">\n",
       "  <thead>\n",
       "    <tr style=\"text-align: right;\">\n",
       "      <th></th>\n",
       "      <th>last_name</th>\n",
       "      <th>University</th>\n",
       "      <th>Major</th>\n",
       "    </tr>\n",
       "    <tr>\n",
       "      <th>first_name</th>\n",
       "      <th></th>\n",
       "      <th></th>\n",
       "      <th></th>\n",
       "    </tr>\n",
       "  </thead>\n",
       "  <tbody>\n",
       "    <tr>\n",
       "      <th>Ayush</th>\n",
       "      <td>Adhikari</td>\n",
       "      <td>CSU</td>\n",
       "      <td>CIS</td>\n",
       "    </tr>\n",
       "    <tr>\n",
       "      <th>Ryan</th>\n",
       "      <td>Griffin</td>\n",
       "      <td>CSU</td>\n",
       "      <td>CS</td>\n",
       "    </tr>\n",
       "    <tr>\n",
       "      <th>Chisato</th>\n",
       "      <td>Nii</td>\n",
       "      <td>CSU</td>\n",
       "      <td>Piano</td>\n",
       "    </tr>\n",
       "    <tr>\n",
       "      <th>Isabelle</th>\n",
       "      <td>Bui</td>\n",
       "      <td>DU</td>\n",
       "      <td>Nutrition</td>\n",
       "    </tr>\n",
       "  </tbody>\n",
       "</table>\n",
       "</div>"
      ],
      "text/plain": [
       "           last_name University      Major\n",
       "first_name                                \n",
       "Ayush       Adhikari        CSU        CIS\n",
       "Ryan         Griffin        CSU         CS\n",
       "Chisato          Nii        CSU      Piano\n",
       "Isabelle         Bui         DU  Nutrition"
      ]
     },
     "execution_count": 24,
     "metadata": {},
     "output_type": "execute_result"
    }
   ],
   "source": [
    "df.set_index(\"first_name\")"
   ]
  },
  {
   "cell_type": "code",
   "execution_count": 25,
   "id": "ef8f756c-1b01-48a6-9693-b47cee449cb3",
   "metadata": {},
   "outputs": [
    {
     "data": {
      "text/html": [
       "<div>\n",
       "<style scoped>\n",
       "    .dataframe tbody tr th:only-of-type {\n",
       "        vertical-align: middle;\n",
       "    }\n",
       "\n",
       "    .dataframe tbody tr th {\n",
       "        vertical-align: top;\n",
       "    }\n",
       "\n",
       "    .dataframe thead th {\n",
       "        text-align: right;\n",
       "    }\n",
       "</style>\n",
       "<table border=\"1\" class=\"dataframe\">\n",
       "  <thead>\n",
       "    <tr style=\"text-align: right;\">\n",
       "      <th></th>\n",
       "      <th>first_name</th>\n",
       "      <th>University</th>\n",
       "      <th>Major</th>\n",
       "    </tr>\n",
       "    <tr>\n",
       "      <th>last_name</th>\n",
       "      <th></th>\n",
       "      <th></th>\n",
       "      <th></th>\n",
       "    </tr>\n",
       "  </thead>\n",
       "  <tbody>\n",
       "    <tr>\n",
       "      <th>Adhikari</th>\n",
       "      <td>Ayush</td>\n",
       "      <td>CSU</td>\n",
       "      <td>CIS</td>\n",
       "    </tr>\n",
       "    <tr>\n",
       "      <th>Griffin</th>\n",
       "      <td>Ryan</td>\n",
       "      <td>CSU</td>\n",
       "      <td>CS</td>\n",
       "    </tr>\n",
       "    <tr>\n",
       "      <th>Nii</th>\n",
       "      <td>Chisato</td>\n",
       "      <td>CSU</td>\n",
       "      <td>Piano</td>\n",
       "    </tr>\n",
       "    <tr>\n",
       "      <th>Bui</th>\n",
       "      <td>Isabelle</td>\n",
       "      <td>DU</td>\n",
       "      <td>Nutrition</td>\n",
       "    </tr>\n",
       "  </tbody>\n",
       "</table>\n",
       "</div>"
      ],
      "text/plain": [
       "          first_name University      Major\n",
       "last_name                                 \n",
       "Adhikari       Ayush        CSU        CIS\n",
       "Griffin         Ryan        CSU         CS\n",
       "Nii          Chisato        CSU      Piano\n",
       "Bui         Isabelle         DU  Nutrition"
      ]
     },
     "execution_count": 25,
     "metadata": {},
     "output_type": "execute_result"
    }
   ],
   "source": [
    "df.set_index(\"last_name\")"
   ]
  },
  {
   "cell_type": "code",
   "execution_count": 26,
   "id": "dcca0bac-5eb2-4a2f-bf5d-28b0c94f24a7",
   "metadata": {},
   "outputs": [
    {
     "data": {
      "text/html": [
       "<div>\n",
       "<style scoped>\n",
       "    .dataframe tbody tr th:only-of-type {\n",
       "        vertical-align: middle;\n",
       "    }\n",
       "\n",
       "    .dataframe tbody tr th {\n",
       "        vertical-align: top;\n",
       "    }\n",
       "\n",
       "    .dataframe thead th {\n",
       "        text-align: right;\n",
       "    }\n",
       "</style>\n",
       "<table border=\"1\" class=\"dataframe\">\n",
       "  <thead>\n",
       "    <tr style=\"text-align: right;\">\n",
       "      <th></th>\n",
       "      <th>first_name</th>\n",
       "      <th>last_name</th>\n",
       "      <th>University</th>\n",
       "      <th>Major</th>\n",
       "    </tr>\n",
       "  </thead>\n",
       "  <tbody>\n",
       "    <tr>\n",
       "      <th>0</th>\n",
       "      <td>Ayush</td>\n",
       "      <td>Adhikari</td>\n",
       "      <td>CSU</td>\n",
       "      <td>CIS</td>\n",
       "    </tr>\n",
       "    <tr>\n",
       "      <th>1</th>\n",
       "      <td>Ryan</td>\n",
       "      <td>Griffin</td>\n",
       "      <td>CSU</td>\n",
       "      <td>CS</td>\n",
       "    </tr>\n",
       "    <tr>\n",
       "      <th>2</th>\n",
       "      <td>Chisato</td>\n",
       "      <td>Nii</td>\n",
       "      <td>CSU</td>\n",
       "      <td>Piano</td>\n",
       "    </tr>\n",
       "    <tr>\n",
       "      <th>3</th>\n",
       "      <td>Isabelle</td>\n",
       "      <td>Bui</td>\n",
       "      <td>DU</td>\n",
       "      <td>Nutrition</td>\n",
       "    </tr>\n",
       "  </tbody>\n",
       "</table>\n",
       "</div>"
      ],
      "text/plain": [
       "  first_name last_name University      Major\n",
       "0      Ayush  Adhikari        CSU        CIS\n",
       "1       Ryan   Griffin        CSU         CS\n",
       "2    Chisato       Nii        CSU      Piano\n",
       "3   Isabelle       Bui         DU  Nutrition"
      ]
     },
     "execution_count": 26,
     "metadata": {},
     "output_type": "execute_result"
    }
   ],
   "source": [
    "df"
   ]
  },
  {
   "cell_type": "code",
   "execution_count": 27,
   "id": "530ba4c5-dabb-41de-98c7-1512ebddbc17",
   "metadata": {},
   "outputs": [],
   "source": [
    "df.set_index(\"first_name\", inplace = True)"
   ]
  },
  {
   "cell_type": "code",
   "execution_count": 28,
   "id": "9d27cbb0-87b1-4313-ad35-7919b57ffe37",
   "metadata": {},
   "outputs": [
    {
     "data": {
      "text/html": [
       "<div>\n",
       "<style scoped>\n",
       "    .dataframe tbody tr th:only-of-type {\n",
       "        vertical-align: middle;\n",
       "    }\n",
       "\n",
       "    .dataframe tbody tr th {\n",
       "        vertical-align: top;\n",
       "    }\n",
       "\n",
       "    .dataframe thead th {\n",
       "        text-align: right;\n",
       "    }\n",
       "</style>\n",
       "<table border=\"1\" class=\"dataframe\">\n",
       "  <thead>\n",
       "    <tr style=\"text-align: right;\">\n",
       "      <th></th>\n",
       "      <th>last_name</th>\n",
       "      <th>University</th>\n",
       "      <th>Major</th>\n",
       "    </tr>\n",
       "    <tr>\n",
       "      <th>first_name</th>\n",
       "      <th></th>\n",
       "      <th></th>\n",
       "      <th></th>\n",
       "    </tr>\n",
       "  </thead>\n",
       "  <tbody>\n",
       "    <tr>\n",
       "      <th>Ayush</th>\n",
       "      <td>Adhikari</td>\n",
       "      <td>CSU</td>\n",
       "      <td>CIS</td>\n",
       "    </tr>\n",
       "    <tr>\n",
       "      <th>Ryan</th>\n",
       "      <td>Griffin</td>\n",
       "      <td>CSU</td>\n",
       "      <td>CS</td>\n",
       "    </tr>\n",
       "    <tr>\n",
       "      <th>Chisato</th>\n",
       "      <td>Nii</td>\n",
       "      <td>CSU</td>\n",
       "      <td>Piano</td>\n",
       "    </tr>\n",
       "    <tr>\n",
       "      <th>Isabelle</th>\n",
       "      <td>Bui</td>\n",
       "      <td>DU</td>\n",
       "      <td>Nutrition</td>\n",
       "    </tr>\n",
       "  </tbody>\n",
       "</table>\n",
       "</div>"
      ],
      "text/plain": [
       "           last_name University      Major\n",
       "first_name                                \n",
       "Ayush       Adhikari        CSU        CIS\n",
       "Ryan         Griffin        CSU         CS\n",
       "Chisato          Nii        CSU      Piano\n",
       "Isabelle         Bui         DU  Nutrition"
      ]
     },
     "execution_count": 28,
     "metadata": {},
     "output_type": "execute_result"
    }
   ],
   "source": [
    "df"
   ]
  },
  {
   "cell_type": "code",
   "execution_count": 29,
   "id": "de282098-d882-404d-8515-42adcc24ae71",
   "metadata": {},
   "outputs": [
    {
     "data": {
      "text/plain": [
       "Index(['Ayush', 'Ryan', 'Chisato', 'Isabelle'], dtype='object', name='first_name')"
      ]
     },
     "execution_count": 29,
     "metadata": {},
     "output_type": "execute_result"
    }
   ],
   "source": [
    "df.index"
   ]
  },
  {
   "cell_type": "code",
   "execution_count": 32,
   "id": "8e1a9718-2cca-4f3a-84f7-23f17fe36e73",
   "metadata": {},
   "outputs": [
    {
     "data": {
      "text/plain": [
       "'Adhikari'"
      ]
     },
     "execution_count": 32,
     "metadata": {},
     "output_type": "execute_result"
    }
   ],
   "source": [
    "df.loc[\"Ayush\", \"last_name\"]"
   ]
  },
  {
   "cell_type": "code",
   "execution_count": 33,
   "id": "f3225990-e63b-4648-b331-d2dc6a3ec53e",
   "metadata": {},
   "outputs": [
    {
     "data": {
      "text/plain": [
       "last_name     Adhikari\n",
       "University         CSU\n",
       "Major              CIS\n",
       "Name: Ayush, dtype: object"
      ]
     },
     "execution_count": 33,
     "metadata": {},
     "output_type": "execute_result"
    }
   ],
   "source": [
    "df.iloc[0]"
   ]
  },
  {
   "cell_type": "code",
   "execution_count": 34,
   "id": "25a244df-a409-4299-8139-eefae489a875",
   "metadata": {},
   "outputs": [],
   "source": [
    "df.reset_index(inplace = True)"
   ]
  },
  {
   "cell_type": "code",
   "execution_count": 35,
   "id": "604442b9-f072-40bc-9e73-0a51b0f2ef9a",
   "metadata": {},
   "outputs": [
    {
     "data": {
      "text/html": [
       "<div>\n",
       "<style scoped>\n",
       "    .dataframe tbody tr th:only-of-type {\n",
       "        vertical-align: middle;\n",
       "    }\n",
       "\n",
       "    .dataframe tbody tr th {\n",
       "        vertical-align: top;\n",
       "    }\n",
       "\n",
       "    .dataframe thead th {\n",
       "        text-align: right;\n",
       "    }\n",
       "</style>\n",
       "<table border=\"1\" class=\"dataframe\">\n",
       "  <thead>\n",
       "    <tr style=\"text-align: right;\">\n",
       "      <th></th>\n",
       "      <th>first_name</th>\n",
       "      <th>last_name</th>\n",
       "      <th>University</th>\n",
       "      <th>Major</th>\n",
       "    </tr>\n",
       "  </thead>\n",
       "  <tbody>\n",
       "    <tr>\n",
       "      <th>0</th>\n",
       "      <td>Ayush</td>\n",
       "      <td>Adhikari</td>\n",
       "      <td>CSU</td>\n",
       "      <td>CIS</td>\n",
       "    </tr>\n",
       "    <tr>\n",
       "      <th>1</th>\n",
       "      <td>Ryan</td>\n",
       "      <td>Griffin</td>\n",
       "      <td>CSU</td>\n",
       "      <td>CS</td>\n",
       "    </tr>\n",
       "    <tr>\n",
       "      <th>2</th>\n",
       "      <td>Chisato</td>\n",
       "      <td>Nii</td>\n",
       "      <td>CSU</td>\n",
       "      <td>Piano</td>\n",
       "    </tr>\n",
       "    <tr>\n",
       "      <th>3</th>\n",
       "      <td>Isabelle</td>\n",
       "      <td>Bui</td>\n",
       "      <td>DU</td>\n",
       "      <td>Nutrition</td>\n",
       "    </tr>\n",
       "  </tbody>\n",
       "</table>\n",
       "</div>"
      ],
      "text/plain": [
       "  first_name last_name University      Major\n",
       "0      Ayush  Adhikari        CSU        CIS\n",
       "1       Ryan   Griffin        CSU         CS\n",
       "2    Chisato       Nii        CSU      Piano\n",
       "3   Isabelle       Bui         DU  Nutrition"
      ]
     },
     "execution_count": 35,
     "metadata": {},
     "output_type": "execute_result"
    }
   ],
   "source": [
    "df"
   ]
  },
  {
   "cell_type": "code",
   "execution_count": null,
   "id": "1fd515df-6a3a-498f-aa39-2f2daecab788",
   "metadata": {},
   "outputs": [],
   "source": []
  }
 ],
 "metadata": {
  "kernelspec": {
   "display_name": "Python 3 (ipykernel)",
   "language": "python",
   "name": "python3"
  },
  "language_info": {
   "codemirror_mode": {
    "name": "ipython",
    "version": 3
   },
   "file_extension": ".py",
   "mimetype": "text/x-python",
   "name": "python",
   "nbconvert_exporter": "python",
   "pygments_lexer": "ipython3",
   "version": "3.10.3"
  }
 },
 "nbformat": 4,
 "nbformat_minor": 5
}
